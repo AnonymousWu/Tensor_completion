{
 "cells": [
  {
   "cell_type": "code",
   "execution_count": 109,
   "metadata": {},
   "outputs": [],
   "source": [
    "import ctf,random\n",
    "import numpy as np\n",
    "import numpy.linalg as la\n",
    "from ctf import random as crandom\n",
    "glob_comm = ctf.comm()"
   ]
  },
  {
   "cell_type": "code",
   "execution_count": 110,
   "metadata": {},
   "outputs": [],
   "source": [
    "#TODO\n",
    "\n",
    "#def updateU(T,V,W,regParam,omega,I,J,K,r):\n",
    "#    '''Update U matrix by using the formula'''\n",
    "#    \n",
    "#    M1 = ctf.tensor((J,K,r))\n",
    "#    M1.i(\"jku\") << V.i(\"ju\")*W.i(\"ku\")\n",
    "#    [U_,S_,V_] = ctf.svd(M1.reshape((J*K,r)))\n",
    "#    S_ = 1./S_\n",
    "#    U.set_zero()\n",
    "#    U.i(\"iu\") << V_.i(\"vu\")*S_.i(\"v\")*U_.reshape((J,K,r)).i(\"jkv\")*T.i(\"ijk\")\n",
    "#    normalize(U)\n",
    "#    \n",
    "#    return U   \n",
    "#    \n",
    "#    \n",
    "#def updateV(T,U,W,regParam,omega,I,J,K,r):\n",
    "#    '''Update V matrix by using the formula'''\n",
    "#    \n",
    "#    M2 = ctf.tensor((I,K,r))\n",
    "#    M2.i(\"iku\") << U.i(\"iu\")*W.i(\"ku\")\n",
    "#    [U_,S_,V_] = ctf.svd(M2.reshape((I*K,r)))\n",
    "#    S_ = 1./S_\n",
    "#    V.set_zero()\n",
    "#    V.i(\"ju\") << V_.i(\"vu\")*S_.i(\"v\")*U_.reshape((I,K,r)).i(\"ikv\")*T.i(\"ijk\")\n",
    "#    normalize(V)\n",
    "#    \n",
    "#    return V   \n",
    "#\n",
    "#def updateW(T,U,V,regParam,omega,I,J,K,r):\n",
    "#    '''Update V matrix by using the formula'''\n",
    "#    \n",
    "#    M3 = ctf.tensor((I,J,r))\n",
    "#    M3.i(\"iju\") << U.i(\"iu\")*V.i(\"ju\")\n",
    "#    [U_,S_,V_] = ctf.svd(M3.reshape((I*J,r)))\n",
    "#    S_ = 1./S_\n",
    "#    W.set_zero()\n",
    "#    W.i(\"ku\") << V_.i(\"vu\")*S_.i(\"v\")*U_.reshape((I,J,r)).i(\"ijv\")*T.i(\"ijk\")\n",
    "#    normalize(W)\n",
    "#    \n",
    "#    return W"
   ]
  },
  {
   "cell_type": "code",
   "execution_count": 111,
   "metadata": {},
   "outputs": [],
   "source": [
    "#def getALSCtf(T,U,V,W,regParam,omega,I,J,K,r):\n",
    "#    '''\n",
    "#    Same thing as above, but CTF\n",
    "#    '''\n",
    "#    it = 0\n",
    "#    E = ctf.tensor((I,J,K))\n",
    "#    E.i(\"ijk\") << T.i(\"ijk\") - omega.i(\"ijk\")*U.i(\"iu\")*V.i(\"ju\")*W.i(\"ku\")\n",
    "#    curr_err_norm = ctf.vecnorm(E) + (ctf.vecnorm(U) + ctf.vecnorm(V) + ctf.vecnorm(W))*regParam\n",
    "#    \n",
    "#    while True:\n",
    "#        U = updateU(T,V,W,regParam,omega,I,J,K,r) \n",
    "#        V = updateV(T,U,W,regParam,omega,I,J,K,r) \n",
    "#        W = updateW(T,U,V,regParam,omega,I,J,K,r) \n",
    "#        E.i(\"ijk\") << T.i(\"ijk\") - omega.i(\"ijk\")*U.i(\"iu\")*V.i(\"ju\")*W.i(\"ku\")\n",
    "#        next_err_norm = ctf.vecnorm(E) + (ctf.vecnorm(U) + ctf.vecnorm(V) + ctf.vecnorm(W))*regParam\n",
    "#        \n",
    "#        if curr_err_norm - next_err_norm > .001 or it > 10:\n",
    "#            break\n",
    "#            \n",
    "#        print(curr_err_norm, next_err_norm)\n",
    "#        curr_err_norm = next_err_norm\n",
    "#        it += 1\n",
    "#        \n",
    "#    return U,V,W"
   ]
  },
  {
   "cell_type": "code",
   "execution_count": 112,
   "metadata": {},
   "outputs": [],
   "source": [
    "def normalize(Z):\n",
    "    norms = ctf.tensor(r)\n",
    "    norms.i(\"u\") << Z.i(\"pu\")*Z.i(\"pu\")\n",
    "    norms = 1./norms**.5\n",
    "    X = ctf.tensor(copy=Z)\n",
    "    Z.set_zero()\n",
    "    Z.i(\"pu\") << X.i(\"pu\")*norms.i(\"u\")\n",
    "    return 1./norms"
   ]
  },
  {
   "cell_type": "code",
   "execution_count": 113,
   "metadata": {},
   "outputs": [],
   "source": [
    "def init_tensor(n):\n",
    "    dimensions = []\n",
    "    while n>0:\n",
    "        r = random.randint(1,10)\n",
    "        dimensions.append(r)\n",
    "        n -= 1\n",
    "    #print(\"dimensions: \", tuple(dimensions))\n",
    "    T = ctf.tensor(tuple(dimensions),sp=True)\n",
    "    T.fill_sp_random(0,1,1)\n",
    "    return T,dimensions\n",
    "\n",
    "\n",
    "def init_factors(dimensions,r):\n",
    "    D = dimensions.copy()\n",
    "    ctf.random.seed(42)\n",
    "    factors = []\n",
    "    while len(D) != 0:\n",
    "        I = D.pop(0)\n",
    "        U = ctf.random.random((I,r))\n",
    "        normalize(U)\n",
    "        factors.append(U)\n",
    "    return factors\n",
    "\n",
    "def updateOmega(dimensions,sparsity):\n",
    "    '''\n",
    "    Gets a random subset of rows\n",
    "    '''\n",
    "    Actf = ctf.tensor(tuple(dimensions),sp=True)\n",
    "    Actf.fill_sp_random(0,1,sparsity)\n",
    "    omegactf = ((Actf > 0)*ctf.astensor(1.))\n",
    "    return omegactf"
   ]
  },
  {
   "cell_type": "code",
   "execution_count": 116,
   "metadata": {},
   "outputs": [
    {
     "name": "stdout",
     "output_type": "stream",
     "text": [
      "dimensions:  (10, 2, 8, 4, 9)\n"
     ]
    }
   ],
   "source": [
    "n = random.randint(1,5) # arbitrary dimension\n",
    "r = n # TODO: determine rank?\n",
    "sparsity = .2\n",
    "regParam = 2\n",
    "  \n",
    "# arbitrary tensor\n",
    "T,dimensions = init_tensor(n)\n",
    "print(\"dimensions: \", tuple(dimensions))\n",
    "\n",
    "factors = init_factors(dimensions,r)\n",
    "\n",
    "omega = updateOmega(dimensions,sparsity)"
   ]
  },
  {
   "cell_type": "code",
   "execution_count": null,
   "metadata": {},
   "outputs": [],
   "source": []
  }
 ],
 "metadata": {
  "kernelspec": {
   "display_name": "Python 3",
   "language": "python",
   "name": "python3"
  },
  "language_info": {
   "codemirror_mode": {
    "name": "ipython",
    "version": 3
   },
   "file_extension": ".py",
   "mimetype": "text/x-python",
   "name": "python",
   "nbconvert_exporter": "python",
   "pygments_lexer": "ipython3",
   "version": "3.6.4"
  }
 },
 "nbformat": 4,
 "nbformat_minor": 2
}
