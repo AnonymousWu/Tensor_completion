{
 "cells": [
  {
   "cell_type": "code",
   "execution_count": 41,
   "metadata": {},
   "outputs": [],
   "source": [
    "import ctf,random\n",
    "import numpy as np\n",
    "import numpy.linalg as la\n",
    "from ctf import random as crandom\n",
    "glob_comm = ctf.comm()"
   ]
  },
  {
   "cell_type": "code",
   "execution_count": 64,
   "metadata": {},
   "outputs": [],
   "source": [
    "def updateFactor(T,curr,others,regParam,omega,other_dimensions,r,s,idx):\n",
    "    '''Update single factor matrix by using the formula'''\n",
    "    \n",
    "    other_dimensions_ = other_dimensions.copy()\n",
    "    other_dimensions_.append(r)\n",
    "    M = ctf.tensor((tuple(other_dimensions_)))\n",
    "    \n",
    "    # M.i(\"jku\") << V.i(\"ju\")*W.i(\"ku\")\n",
    "    S = s[:idx] + s[idx + 1:]\n",
    "    temp = 1\n",
    "    for k in range(len(others)):\n",
    "        temp = temp*others[k].i(S[k]+'u')\n",
    "    M.i(S+'u') << temp\n",
    "    \n",
    "    D = np.prod(other_dimensions)\n",
    "    [U_,S_,V_] = ctf.svd(M.reshape((D,r)))\n",
    "    S_ = 1./S_\n",
    "    curr.set_zero()\n",
    "    curr.i(s[idx]+'u') << V_.i(\"vu\")*S_.i(\"v\")*U_.reshape((tuple(other_dimensions_))).i(S+'v')*T.i(s)\n",
    "    #U.i(\"iu\") << V_.i(\"vu\")*S_.i(\"v\")*U_.reshape((J,K,r)).i(\"jkv\")*T.i(\"ijk\")\n",
    "    normalize(curr)\n",
    "    return curr\n",
    "\n",
    "#def updateU(T,V,W,regParam,omega,I,J,K,r):\n",
    "#    '''Update U matrix by using the formula'''\n",
    "#    \n",
    "#    M1 = ctf.tensor((J,K,r))\n",
    "#    M1.i(\"jku\") << V.i(\"ju\")*W.i(\"ku\")\n",
    "#    [U_,S_,V_] = ctf.svd(M1.reshape((J*K,r)))\n",
    "#    S_ = 1./S_\n",
    "#    U.set_zero()\n",
    "#    U.i(\"iu\") << V_.i(\"vu\")*S_.i(\"v\")*U_.reshape((J,K,r)).i(\"jkv\")*T.i(\"ijk\")\n",
    "#    normalize(U)\n",
    "#    \n",
    "#    return U      "
   ]
  },
  {
   "cell_type": "code",
   "execution_count": 59,
   "metadata": {},
   "outputs": [],
   "source": [
    "def getALSCtf(T,factors,regParam,omega,dimensions,r):\n",
    "    '''\n",
    "    Tensor completion using ALS\n",
    "    '''\n",
    "    it = 0\n",
    "    E = ctf.tensor(tuple(dimensions))\n",
    "    curr_err_norm = 0\n",
    "    \n",
    "    import string\n",
    "    s = string.ascii_lowercase\n",
    "    s = s[:len(dimensions)]\n",
    "    \n",
    "    e = omega.i(s)\n",
    "    for idx in range(len(factors)):\n",
    "        print(s[idx]+'u')\n",
    "        e = e*factors[idx].i(s[idx]+'u')\n",
    "        #E.i(\"ijk\") << T.i(\"ijk\") - omega.i(\"ijk\")*U.i(\"iu\")*V.i(\"ju\")*W.i(\"ku\")\n",
    "        curr_err_norm += ctf.vecnorm(factors[idx])     \n",
    "    \n",
    "    E.i(s) << T.i(s) - e \n",
    "    curr_err_norm = ctf.vecnorm(E) + curr_err_norm*regParam\n",
    "    \n",
    "    while True:\n",
    "  #      U = updateU(T,V,W,regParam,omega,I,J,K,r) \n",
    "  #      V = updateV(T,U,W,regParam,omega,I,J,K,r) \n",
    "  #      W = updateW(T,U,V,regParam,omega,I,J,K,r) \n",
    "        for idx in range(len(factors)):\n",
    "            others = factors.copy()\n",
    "            others.pop(idx)\n",
    "            other_dimensions = dimensions.copy()\n",
    "            other_dimensions.pop(idx)\n",
    "            factors[idx] = updateFactor(T,factors[idx],others,regParam,omega,other_dimensions,r,s,idx)\n",
    "            \n",
    "        next_err_norm = 0\n",
    "        e = omega.i(s)\n",
    "        for idx in range(len(factors)):\n",
    "            e = e*factors[idx].i(s[idx]+'u')\n",
    "            next_err_norm += ctf.vecnorm(factors[idx])      \n",
    "        E.i(s) << T.i(s) - e \n",
    "        next_err_norm = ctf.vecnorm(E) + next_err_norm*regParam\n",
    "  \n",
    "        if curr_err_norm - next_err_norm > .001 or it > 10:\n",
    "            break\n",
    "         \n",
    "        print(curr_err_norm, next_err_norm)\n",
    "        curr_err_norm = next_err_norm\n",
    "        it += 1\n",
    "        \n",
    "    return factors"
   ]
  },
  {
   "cell_type": "code",
   "execution_count": 60,
   "metadata": {},
   "outputs": [],
   "source": [
    "def normalize(Z):\n",
    "    norms = ctf.tensor(r)\n",
    "    norms.i(\"u\") << Z.i(\"pu\")*Z.i(\"pu\")\n",
    "    norms = 1./norms**.5\n",
    "    X = ctf.tensor(copy=Z)\n",
    "    Z.set_zero()\n",
    "    Z.i(\"pu\") << X.i(\"pu\")*norms.i(\"u\")\n",
    "    return 1./norms"
   ]
  },
  {
   "cell_type": "code",
   "execution_count": 61,
   "metadata": {},
   "outputs": [],
   "source": [
    "def init_tensor(n):\n",
    "    dimensions = []\n",
    "    while n>0:\n",
    "        r = random.randint(1,10)\n",
    "        dimensions.append(r)\n",
    "        n -= 1\n",
    "    #print(\"dimensions: \", tuple(dimensions))\n",
    "    T = ctf.tensor(tuple(dimensions),sp=True)\n",
    "    T.fill_sp_random(0,1,1)\n",
    "    return T,dimensions\n",
    "\n",
    "\n",
    "def init_factors(dimensions,r):\n",
    "    D = dimensions.copy()\n",
    "    ctf.random.seed(42)\n",
    "    factors = []\n",
    "    while len(D) != 0:\n",
    "        I = D.pop(0)\n",
    "        U = ctf.random.random((I,r))\n",
    "        normalize(U)\n",
    "        factors.append(U)\n",
    "    return factors\n",
    "\n",
    "\n",
    "def updateOmega(dimensions,sparsity):\n",
    "    '''\n",
    "    Gets a random subset of rows\n",
    "    '''\n",
    "    Actf = ctf.tensor(tuple(dimensions),sp=True)\n",
    "    Actf.fill_sp_random(1,1,sparsity)\n",
    "    #omegactf = ((Actf > 0)*ctf.astensor(1.))\n",
    "    return Actf"
   ]
  },
  {
   "cell_type": "code",
   "execution_count": 62,
   "metadata": {},
   "outputs": [
    {
     "name": "stdout",
     "output_type": "stream",
     "text": [
      "dimensions:  (9, 1, 5)\n"
     ]
    }
   ],
   "source": [
    "#n = random.randint(1,5) # arbitrary dimension\n",
    "n = 3\n",
    "r = 2 # TODO: determine rank?\n",
    "sparsity = .2\n",
    "regParam = 2\n",
    "  \n",
    "# arbitrary tensor\n",
    "T,dimensions = init_tensor(n)\n",
    "print(\"dimensions: \", tuple(dimensions))\n",
    "\n",
    "factors = init_factors(dimensions,r)\n",
    "\n",
    "omega = updateOmega(dimensions,sparsity)"
   ]
  },
  {
   "cell_type": "code",
   "execution_count": 65,
   "metadata": {},
   "outputs": [
    {
     "name": "stdout",
     "output_type": "stream",
     "text": [
      "au\n",
      "bu\n",
      "cu\n",
      "11.95345306394011 15.488194061072955\n",
      "15.488194061072955 18.997335385403822\n",
      "18.997335385403822 22.49656643239736\n",
      "22.49656643239736 25.99506533728202\n",
      "25.99506533728202 29.49267753849951\n",
      "29.49267753849951 32.98854831800005\n",
      "32.98854831800005 36.482149317482325\n",
      "36.482149317482325 39.97330354655594\n",
      "39.97330354655594 43.46209649838629\n",
      "43.46209649838629 46.948777165416914\n",
      "46.948777165416914 50.4336709085524\n"
     ]
    },
    {
     "data": {
      "text/plain": [
       "[array([[ 0.41489614, -0.40605474],\n",
       "        [ 0.41797344, -0.33665655],\n",
       "        [ 0.5248232 , -0.48950891],\n",
       "        [ 0.42191552, -0.21904996],\n",
       "        [ 0.11522394,  0.07977692],\n",
       "        [ 0.17078664,  0.44362029],\n",
       "        [ 0.09404685,  0.1341189 ],\n",
       "        [ 0.34343449,  0.05515419],\n",
       "        [ 0.17455832,  0.45824325]]),\n",
       " array([[ 1.,  1.]]),\n",
       " array([[ 0.39415176, -0.26206253],\n",
       "        [ 0.63673764,  0.41161874],\n",
       "        [ 0.52389358,  0.25040646],\n",
       "        [ 0.19322016,  0.33717996],\n",
       "        [ 0.35694686,  0.76517941]])]"
      ]
     },
     "execution_count": 65,
     "metadata": {},
     "output_type": "execute_result"
    }
   ],
   "source": [
    "getALSCtf(T,factors,regParam,omega,dimensions,r)"
   ]
  },
  {
   "cell_type": "markdown",
   "metadata": {},
   "source": [
    "### Tests"
   ]
  },
  {
   "cell_type": "code",
   "execution_count": 66,
   "metadata": {},
   "outputs": [],
   "source": [
    "## TODO : write tests"
   ]
  },
  {
   "cell_type": "code",
   "execution_count": null,
   "metadata": {},
   "outputs": [],
   "source": []
  }
 ],
 "metadata": {
  "kernelspec": {
   "display_name": "Python 3",
   "language": "python",
   "name": "python3"
  },
  "language_info": {
   "codemirror_mode": {
    "name": "ipython",
    "version": 3
   },
   "file_extension": ".py",
   "mimetype": "text/x-python",
   "name": "python",
   "nbconvert_exporter": "python",
   "pygments_lexer": "ipython3",
   "version": "3.6.4"
  }
 },
 "nbformat": 4,
 "nbformat_minor": 2
}
