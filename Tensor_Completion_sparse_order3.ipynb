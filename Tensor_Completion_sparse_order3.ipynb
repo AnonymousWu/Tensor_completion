{
 "cells": [
  {
   "cell_type": "code",
   "execution_count": 1,
   "metadata": {},
   "outputs": [],
   "source": [
    "import ctf,time,random\n",
    "import numpy as np\n",
    "import numpy.linalg as la\n",
    "from ctf import random as crandom\n",
    "glob_comm = ctf.comm()"
   ]
  },
  {
   "cell_type": "code",
   "execution_count": 2,
   "metadata": {},
   "outputs": [],
   "source": [
    "class UnitTests:\n",
    "        \n",
    "    def test_3d_purturb1(self):\n",
    "        \n",
    "        I = random.randint(3,5)\n",
    "        J = random.randint(3,5)\n",
    "        K = random.randint(3,5)\n",
    "        r = 2 \n",
    "        sparsity = .2\n",
    "        regParam = 10\n",
    "        \n",
    "        ctf.random.seed(42)\n",
    "        U = ctf.random.random((I,r))\n",
    "        V= ctf.random.random((J,r))\n",
    "        W= ctf.random.random((K,r))\n",
    "    \n",
    "    \n",
    "        # 3rd-order tensor\n",
    "        T = ctf.tensor((I,J,K))\n",
    "        T.fill_random(0,1)\n",
    "        omega = createOmega(I,J,K,sparsity)\n",
    "        T.i(\"ijk\") << omega.i(\"ijk\")*U.i(\"iu\")*V.i(\"ju\")*W.i(\"ku\")\n",
    "        omega = updateOmega(T,I,J,K)\n",
    "        \n",
    "        print(\"U: \",U)\n",
    "                \n",
    "        # purturb the first factor matrix\n",
    "        U += crandom.random((I,r))*.01\n",
    "        # call updateU function\n",
    "        nU = updateU(T,U,V,W,regParam,omega,I,J,K,r)\n",
    "        \n",
    "        print(\"nU: \",nU)\n",
    "        \n",
    "        nT = ctf.tensor((I,J,K))\n",
    "        nT.i(\"ijk\") << omega.i(\"ijk\")*nU.i(\"iu\")*V.i(\"ju\")*W.i(\"ku\")\n",
    "        \n",
    "        print(\"nT: \",nT)\n",
    "        print(\"T: \",T)\n",
    "    \n",
    "        assert(ctf.all(ctf.abs(nT - T < 1e-10)))\n",
    "        print(\"passed test: test_3d_purturb1\")\n",
    "\n",
    "        \n",
    "    def runAllTests(self):\n",
    "        self.test_3d_purturb1()"
   ]
  },
  {
   "cell_type": "code",
   "execution_count": 3,
   "metadata": {},
   "outputs": [],
   "source": [
    "def normalize(Z,r):\n",
    "    norms = ctf.tensor(r)\n",
    "    norms.i(\"u\") << Z.i(\"pu\")*Z.i(\"pu\")\n",
    "    norms = 1./norms**.5\n",
    "    X = ctf.tensor(copy=Z)\n",
    "    Z.set_zero()\n",
    "    Z.i(\"pu\") << X.i(\"pu\")*norms.i(\"u\")\n",
    "    return 1./norms"
   ]
  },
  {
   "cell_type": "code",
   "execution_count": 4,
   "metadata": {},
   "outputs": [],
   "source": [
    "def createOmega(I,J,K,sparsity):\n",
    "    Actf = ctf.tensor((I,J,K),sp=True)\n",
    "    Actf.fill_sp_random(0,1,sparsity)\n",
    "    omegactf = ((Actf > 0)*ctf.astensor(1.))\n",
    "    return omegactf\n",
    "\n",
    "\n",
    "def updateOmega(T,I,J,K):\n",
    "    '''\n",
    "    Gets a random subset of rows for each U,V,W iteration\n",
    "    '''\n",
    "    omegactf = ((T > 0)*ctf.astensor(1.))\n",
    "    return omegactf\n",
    "\n",
    "\n",
    "def getDenseOmega(T,U,V,W,regParam,omega,I,J,K,r,idx,string):\n",
    "    if (string ==\"i\"):\n",
    "        omega_curr = ctf.to_nparray(omega[idx,:,:].reshape(J*K))\n",
    "        omega_sum = np.cumsum(omega_curr).tolist()\n",
    "        omega_sum.insert(0,0)\n",
    "        del omega_sum[-1]\n",
    "        #print(\"omega prefix sum: \", omega_sum)\n",
    "        l = []\n",
    "        for x,y in enumerate(omega_sum):\n",
    "            if omega_curr[x] != 0:\n",
    "                l.append((x,int(y)))\n",
    "        #print(l)\n",
    "        num_nonzero = len(l)\n",
    "        \n",
    "        # form dense omega matrix\n",
    "        temp = np.zeros((J*K,len(l)))\n",
    "        for x,y in l:\n",
    "            temp[x][y] = 1\n",
    "        #print(\"omega_dense: \", omega_dense)\n",
    "       \n",
    "        omega_dense = ctf.astensor(temp)\n",
    "        #print(\"before\", (omega_dense, omega_dense.shape))\n",
    "        omega_dense = omega_dense.reshape(J,K,num_nonzero)\n",
    "        #print(\"after\", (omega_dense, omega_dense.shape))\n",
    "        \n",
    "    \n",
    "    if (string ==\"j\"):\n",
    "        omega_curr = ctf.to_nparray(omega[:,idx,:].reshape(I*K))\n",
    "        omega_sum = np.cumsum(omega_curr).tolist()\n",
    "        omega_sum.insert(0,0)\n",
    "        del omega_sum[-1]\n",
    "        l = []\n",
    "        for x,y in enumerate(omega_sum):\n",
    "            if omega_curr[x] != 0:\n",
    "                l.append((x,int(y)))\n",
    "        num_nonzero = len(l)\n",
    "        temp = np.zeros((I*K,len(l)))\n",
    "        for x,y in l:\n",
    "            temp[x,y] = 1\n",
    "        omega_dense = ctf.astensor(temp)\n",
    "        omega_dense = omega_dense.reshape(I,K,num_nonzero)        \n",
    "    \n",
    "    if (string ==\"k\"):\n",
    "        omega_curr = ctf.to_nparray(omega[:,:,idx].reshape(I*J))\n",
    "        omega_sum = np.cumsum(omega_curr).tolist()\n",
    "        omega_sum.insert(0,0)\n",
    "        del omega_sum[-1]\n",
    "        l = []\n",
    "        for x,y in enumerate(omega_sum):\n",
    "            if omega_curr[x] != 0:\n",
    "                l.append((x,int(y)))\n",
    "        num_nonzero = len(l)  \n",
    "        temp = np.zeros((I*J,len(l)))\n",
    "        for x,y in l:\n",
    "            temp[x][y] = 1\n",
    "        omega_dense = ctf.astensor(temp)\n",
    "        omega_dense = omega_dense.reshape(I,J,num_nonzero)\n",
    "        \n",
    "    return num_nonzero,omega_dense"
   ]
  },
  {
   "cell_type": "code",
   "execution_count": 5,
   "metadata": {},
   "outputs": [],
   "source": [
    "def LS_SVD(A,factor,r,Tbar,regParam):\n",
    "    [U_,S_,V_] = ctf.svd(A)\n",
    "    S_ = S_/(S_*S_ + regParam*ctf.ones(r))\n",
    "    \n",
    "    factor.set_zero()\n",
    "    factor.i(\"ir\") << V_.i(\"kr\")*S_.i(\"k\")*U_.i(\"tk\")*Tbar.i(\"it\")\n",
    "    \n",
    "    return factor    "
   ]
  },
  {
   "cell_type": "code",
   "execution_count": 6,
   "metadata": {},
   "outputs": [],
   "source": [
    "def LS_CG(Ax0,b,Z,x0):\n",
    "    rk = b - Ax0_\n",
    "    sk = rk\n",
    "    xk = x0\n",
    "    for i in range(20): # how many iterations?\n",
    "        Ask = ctf.tensor(r)\n",
    "        Ask.i(\"i\") << Z.i(\"ti\") * Z.i(\"tj\") * sk.i(\"j\")  # A @ sk\n",
    "        alpha = ctf.dot(rk,rk)/ctf.dot(sk, Ask)\n",
    "        xk1 = xk + alpha * sk\n",
    "        rk1 = rk - alpha * Ask\n",
    "        beta = ctf.dot(rk1,rk1)/ctf.dot(rk,rk)\n",
    "        sk1 = rk1 + beta*sk\n",
    "        rk = rk1\n",
    "        xk = xk1\n",
    "        sk = sk1\n",
    "    return xk"
   ]
  },
  {
   "cell_type": "code",
   "execution_count": 7,
   "metadata": {},
   "outputs": [],
   "source": [
    "def updateU(T,U,V,W,regParam,omega,I,J,K,r):\n",
    "    '''Update U matrix by using the formula'''\n",
    "    M1 = ctf.tensor((J,K,r))\n",
    "    M1.i(\"jku\") << V.i(\"ju\")*W.i(\"ku\")\n",
    "    \n",
    "    for i in range(I):\n",
    "        num_nonzero, dense_omega = getDenseOmega(T,U,V,W,regParam,omega,I,J,K,r,i,\"i\")\n",
    "        Z = ctf.tensor((num_nonzero,r))\n",
    "        Z.i(\"tr\") << dense_omega.i(\"jkt\")*M1.i(\"jkr\")\n",
    "        \n",
    "        Tbar = ctf.tensor((I,num_nonzero))\n",
    "        Tbar.i(\"it\") << T.i(\"ijk\")*dense_omega.i(\"jkt\")\n",
    "        \n",
    "        U = LS_SVD(Z,U,r,Tbar,regParam) \n",
    "    #U *= normalize(U,r)\n",
    "     \n",
    "    return U\n",
    "    \n",
    "    \n",
    "def updateV(T,U,V,W,regParam,omega,I,J,K,r):\n",
    "    '''Update V matrix by using the formula'''\n",
    "    \n",
    "    M2 = ctf.tensor((I,K,r))\n",
    "    M2.i(\"iku\") << U.i(\"iu\")*W.i(\"ku\")\n",
    "    \n",
    "    for j in range(J):\n",
    "        num_nonzero, dense_omega = getDenseOmega(T,U,V,W,regParam,omega,I,J,K,r,j,\"j\")\n",
    "        Z = ctf.tensor((num_nonzero,r))\n",
    "        Z.i(\"tr\") << dense_omega.i(\"ikt\")*M2.i(\"ikr\")\n",
    "        \n",
    "        Tbar = ctf.tensor((J,num_nonzero))\n",
    "        Tbar.i(\"jt\") << T.i(\"ijk\")*dense_omega.i(\"ikt\")\n",
    "        \n",
    "        V = LS_SVD(Z,V,r,Tbar,regParam)\n",
    "    #V *= normalize(V,r)\n",
    "    \n",
    "    return V  \n",
    "\n",
    "def updateW(T,U,V,W,regParam,omega,I,J,K,r):\n",
    "    '''Update V matrix by using the formula'''\n",
    "    \n",
    "    M3 = ctf.tensor((I,J,r))\n",
    "    M3.i(\"iju\") << U.i(\"iu\")*V.i(\"ju\")\n",
    "    \n",
    "    for k in range(K):\n",
    "        num_nonzero, dense_omega = getDenseOmega(T,U,V,W,regParam,omega,I,J,K,r,k,\"k\")\n",
    "        Z = ctf.tensor((num_nonzero,r))\n",
    "        Z.i(\"tr\") << dense_omega.i(\"ijt\")*M3.i(\"ijr\")\n",
    "        \n",
    "        Tbar = ctf.tensor((K,num_nonzero))\n",
    "        Tbar.i(\"kt\") << T.i(\"ijk\")*dense_omega.i(\"ijt\")\n",
    "        \n",
    "        W = LS_SVD(Z,W,r,Tbar,regParam)\n",
    "    #W *= normalize(W,r)\n",
    "    \n",
    "    return W"
   ]
  },
  {
   "cell_type": "code",
   "execution_count": 8,
   "metadata": {},
   "outputs": [],
   "source": [
    "def getALSCtf(T,U,V,W,regParam,omega,I,J,K,r):\n",
    "    '''\n",
    "    Same thing as above, but CTF\n",
    "    '''\n",
    "    it = 0\n",
    "    E = ctf.tensor((I,J,K))\n",
    "    E.i(\"ijk\") << T.i(\"ijk\") - omega.i(\"ijk\")*U.i(\"iu\")*V.i(\"ju\")*W.i(\"ku\")\n",
    "    curr_err_norm = ctf.vecnorm(E) + (ctf.vecnorm(U) + ctf.vecnorm(V) + ctf.vecnorm(W))*regParam\n",
    "    \n",
    "    while True:\n",
    "        U = updateU(T,U,V,W,regParam,omega,I,J,K,r)\n",
    "        V = updateV(T,U,V,W,regParam,omega,I,J,K,r) \n",
    "        W = updateW(T,U,V,W,regParam,omega,I,J,K,r)\n",
    "        E.set_zero()\n",
    "        E.i(\"ijk\") << T.i(\"ijk\") - omega.i(\"ijk\")*U.i(\"iu\")*V.i(\"ju\")*W.i(\"ku\")\n",
    "        next_err_norm = ctf.vecnorm(E) + (ctf.vecnorm(U) + ctf.vecnorm(V) + ctf.vecnorm(W))*regParam\n",
    "        \n",
    "        if abs(curr_err_norm - next_err_norm) < .001 or it > 10:\n",
    "            break\n",
    "            \n",
    "        print(curr_err_norm, next_err_norm)\n",
    "        #print(next_err_norm/curr_err_norm)\n",
    "        curr_err_norm = next_err_norm\n",
    "        it += 1\n",
    "    \n",
    "    print(\"Number of iterations: \", it)\n",
    "    return U,V,W"
   ]
  },
  {
   "cell_type": "code",
   "execution_count": 9,
   "metadata": {},
   "outputs": [],
   "source": [
    "def main():\n",
    "    \n",
    "    #ut = UnitTests()\n",
    "    #ut.runAllTests()\n",
    "\n",
    "    I = random.randint(10,20)\n",
    "    J = random.randint(10,20)\n",
    "    K = random.randint(10,20)\n",
    "    r = 2 \n",
    "    sparsity = .1\n",
    "    regParam = 0\n",
    "        \n",
    "    ctf.random.seed(42)\n",
    "    U = ctf.random.random((I,r))\n",
    "    V= ctf.random.random((J,r))\n",
    "    W= ctf.random.random((K,r))\n",
    "    \n",
    "    # 3rd-order tensor\n",
    "    T = ctf.tensor((I,J,K),sp=True)\n",
    "    T.fill_sp_random(0,1,sparsity)\n",
    "    omega = updateOmega(T,I,J,K)\n",
    "    \n",
    "    U = ctf.random.random((I,r))\n",
    "    V= ctf.random.random((J,r))\n",
    "    W= ctf.random.random((K,r))\n",
    "    \n",
    "    t = time.time()\n",
    "    \n",
    "    getALSCtf(T,U,V,W,regParam,omega,I,J,K,r)\n",
    "    \n",
    "    print(\"ALS costs time = \",np.round_(time.time()- t,4))    "
   ]
  },
  {
   "cell_type": "code",
   "execution_count": 10,
   "metadata": {},
   "outputs": [
    {
     "name": "stdout",
     "output_type": "stream",
     "text": [
      "6.803950614814387 11.540716134619926\n",
      "11.540716134619926 10.529688113657178\n",
      "10.529688113657178 287.1403600214864\n",
      "287.1403600214864 75.67674202289383\n",
      "75.67674202289383 11.354362121673336\n",
      "11.354362121673336 881.6860013862969\n",
      "881.6860013862969 59.16338822518144\n",
      "59.16338822518144 11.522186579618102\n",
      "11.522186579618102 2281.0147708829886\n",
      "2281.0147708829886 46.157757622155046\n",
      "46.157757622155046 11.185792253776226\n",
      "Number of iterations:  11\n",
      "ALS costs time =  22.2791\n"
     ]
    }
   ],
   "source": [
    "main()"
   ]
  },
  {
   "cell_type": "markdown",
   "metadata": {},
   "source": [
    "## TEST"
   ]
  },
  {
   "cell_type": "code",
   "execution_count": 11,
   "metadata": {},
   "outputs": [
    {
     "data": {
      "text/plain": [
       "array([[[ 0.        ,  0.        ,  0.        ,  0.        ,  0.        ],\n",
       "        [ 0.74516551,  0.        ,  0.32375825,  0.75096938,  0.        ],\n",
       "        [ 0.        ,  0.        ,  0.        ,  0.        ,  0.        ],\n",
       "        [ 0.        ,  0.        ,  0.        ,  0.        ,  0.        ]],\n",
       "\n",
       "       [[ 0.        ,  0.        ,  0.        ,  0.        ,  0.        ],\n",
       "        [ 0.        ,  0.80433241,  0.        ,  0.        ,  0.        ],\n",
       "        [ 0.        ,  0.04351748,  0.        ,  0.        ,  0.        ],\n",
       "        [ 0.        ,  0.        ,  0.        ,  0.        ,  0.        ]],\n",
       "\n",
       "       [[ 0.        ,  0.        ,  0.        ,  0.        ,  0.        ],\n",
       "        [ 0.        ,  0.92610249,  0.        ,  0.        ,  0.        ],\n",
       "        [ 0.        ,  0.        ,  0.        ,  0.        ,  0.        ],\n",
       "        [ 0.        ,  0.        ,  0.        ,  0.        ,  0.        ]]])"
      ]
     },
     "execution_count": 11,
     "metadata": {},
     "output_type": "execute_result"
    }
   ],
   "source": [
    "I = 3\n",
    "J = 4\n",
    "K = 5\n",
    "r = 2\n",
    "sparsity = .1\n",
    "regParam = 0.001\n",
    "        \n",
    "ctf.random.seed(42)\n",
    "U = ctf.random.random((I,r))\n",
    "V= ctf.random.random((J,r))\n",
    "W= ctf.random.random((K,r))\n",
    "    \n",
    "# 3rd-order tensor\n",
    "T = ctf.tensor((I,J,K),sp=True)\n",
    "T.fill_sp_random(0,1,sparsity)\n",
    "omega = updateOmega(T,I,J,K)\n",
    "T"
   ]
  },
  {
   "cell_type": "code",
   "execution_count": 12,
   "metadata": {},
   "outputs": [
    {
     "data": {
      "text/plain": [
       "array([[ 0.22637057,  0.36907858],\n",
       "       [ 0.01281813,  0.02520936],\n",
       "       [ 0.20474899,  0.05827465]])"
      ]
     },
     "execution_count": 12,
     "metadata": {},
     "output_type": "execute_result"
    }
   ],
   "source": [
    "M1 = ctf.tensor((J,K,r))\n",
    "M1.i(\"jku\") << V.i(\"ju\")*W.i(\"ku\") \n",
    "num_nonzero, dense_omega = getDenseOmega(T,U,V,W,regParam,omega,I,J,K,r,0,\"i\")\n",
    "Z = ctf.tensor((num_nonzero,r))\n",
    "Z.i(\"tr\") << dense_omega.i(\"jkt\")*M1.i(\"jkr\")\n",
    "Z"
   ]
  },
  {
   "cell_type": "code",
   "execution_count": 13,
   "metadata": {},
   "outputs": [
    {
     "data": {
      "text/plain": [
       "array([ 0.74516551,  0.32375825,  0.75096938])"
      ]
     },
     "execution_count": 13,
     "metadata": {},
     "output_type": "execute_result"
    }
   ],
   "source": [
    "Tbar = ctf.tensor((num_nonzero))\n",
    "Tbar.i(\"t\") << dense_omega.i(\"jkt\") *T.i(\"ijk\")\n",
    "Tbar"
   ]
  },
  {
   "cell_type": "code",
   "execution_count": 14,
   "metadata": {},
   "outputs": [
    {
     "data": {
      "text/plain": [
       "array([ 3.70263153, -0.19804308])"
      ]
     },
     "execution_count": 14,
     "metadata": {},
     "output_type": "execute_result"
    }
   ],
   "source": [
    "from scipy.sparse.linalg import lsqr as lsqr\n",
    "la.lstsq(ctf.to_nparray(Z), ctf.to_nparray(Tbar))[0]"
   ]
  },
  {
   "cell_type": "code",
   "execution_count": 15,
   "metadata": {},
   "outputs": [
    {
     "data": {
      "text/plain": [
       "array([ 0.10926364,  0.12959503])"
      ]
     },
     "execution_count": 15,
     "metadata": {},
     "output_type": "execute_result"
    }
   ],
   "source": [
    "x0 = ctf.random.random(r)\n",
    "#n = b.shape[0]\n",
    "\n",
    "Ax0 = ctf.dot(ctf.dot(Z.transpose(),Z),x0) # LHS; using matrix-matrix multiplication\n",
    "b = ctf.dot(Z.transpose(),Tbar)  # ATb; RHS\n",
    "Ax0"
   ]
  },
  {
   "cell_type": "code",
   "execution_count": 16,
   "metadata": {},
   "outputs": [
    {
     "data": {
      "text/plain": [
       "array([ 0.10926364,  0.12959503])"
      ]
     },
     "execution_count": 16,
     "metadata": {},
     "output_type": "execute_result"
    }
   ],
   "source": [
    "Ax0_ = ctf.tensor((r))\n",
    "Ax0_.i(\"i\") << Z.i(\"ti\") * Z.i(\"tj\") * x0.i(\"j\")  # LHS; using matrix-vector multiplication\n",
    "Ax0_"
   ]
  },
  {
   "cell_type": "code",
   "execution_count": 17,
   "metadata": {},
   "outputs": [
    {
     "data": {
      "text/plain": [
       "array([ 3.70263153, -0.19804308])"
      ]
     },
     "execution_count": 17,
     "metadata": {},
     "output_type": "execute_result"
    }
   ],
   "source": [
    "LS_CG(Ax0_,b,Z,x0)"
   ]
  },
  {
   "cell_type": "code",
   "execution_count": 18,
   "metadata": {},
   "outputs": [
    {
     "data": {
      "text/plain": [
       "array([[ 3.57190641, -0.10797649],\n",
       "       [ 3.57190641, -0.10797649],\n",
       "       [ 3.57190641, -0.10797649]])"
      ]
     },
     "execution_count": 18,
     "metadata": {},
     "output_type": "execute_result"
    }
   ],
   "source": [
    "LS_SVD(Z,U,r,Tbar,regParam) "
   ]
  },
  {
   "cell_type": "code",
   "execution_count": null,
   "metadata": {},
   "outputs": [],
   "source": []
  }
 ],
 "metadata": {
  "kernelspec": {
   "display_name": "Python 3",
   "language": "python",
   "name": "python3"
  },
  "language_info": {
   "codemirror_mode": {
    "name": "ipython",
    "version": 3
   },
   "file_extension": ".py",
   "mimetype": "text/x-python",
   "name": "python",
   "nbconvert_exporter": "python",
   "pygments_lexer": "ipython3",
   "version": "3.6.4"
  }
 },
 "nbformat": 4,
 "nbformat_minor": 2
}
