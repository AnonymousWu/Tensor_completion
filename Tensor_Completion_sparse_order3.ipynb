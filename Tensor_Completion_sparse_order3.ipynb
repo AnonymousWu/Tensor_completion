{
 "cells": [
  {
   "cell_type": "code",
   "execution_count": 70,
   "metadata": {
    "collapsed": true
   },
   "outputs": [],
   "source": [
    "import ctf,time,random\n",
    "import numpy as np\n",
    "import numpy.linalg as la\n",
    "from ctf import random as crandom\n",
    "glob_comm = ctf.comm()"
   ]
  },
  {
   "cell_type": "code",
   "execution_count": 71,
   "metadata": {
    "collapsed": true
   },
   "outputs": [],
   "source": [
    "class UnitTests:\n",
    "        \n",
    "    def test_3d_purturb1(self):\n",
    "        \n",
    "        I = random.randint(3,5)\n",
    "        J = random.randint(3,5)\n",
    "        K = random.randint(3,5)\n",
    "        r = 2 \n",
    "        sparsity = .2\n",
    "        regParam = 10\n",
    "        \n",
    "        ctf.random.seed(42)\n",
    "        U = ctf.random.random((I,r))\n",
    "        V= ctf.random.random((J,r))\n",
    "        W= ctf.random.random((K,r))\n",
    "    \n",
    "    \n",
    "        # 3rd-order tensor\n",
    "        T = ctf.tensor((I,J,K))\n",
    "        T.fill_random(0,1)\n",
    "        omega = createOmega(I,J,K,sparsity)\n",
    "        T.i(\"ijk\") << omega.i(\"ijk\")*U.i(\"iu\")*V.i(\"ju\")*W.i(\"ku\")\n",
    "        omega = updateOmega(T,I,J,K)\n",
    "        \n",
    "        print(\"U: \",U)\n",
    "                \n",
    "        # purturb the first factor matrix\n",
    "        U += crandom.random((I,r))*.01\n",
    "        # call updateU function\n",
    "        nU = updateU(T,U,V,W,regParam,omega,I,J,K,r)\n",
    "        \n",
    "        print(\"nU: \",nU)\n",
    "        \n",
    "        nT = ctf.tensor((I,J,K))\n",
    "        nT.i(\"ijk\") << omega.i(\"ijk\")*nU.i(\"iu\")*V.i(\"ju\")*W.i(\"ku\")\n",
    "        \n",
    "        print(\"nT: \",nT)\n",
    "        print(\"T: \",T)\n",
    "    \n",
    "        assert(ctf.all(ctf.abs(nT - T < 1e-10)))\n",
    "        print(\"passed test: test_3d_purturb1\")\n",
    "\n",
    "        \n",
    "    def runAllTests(self):\n",
    "        self.test_3d_purturb1()"
   ]
  },
  {
   "cell_type": "code",
   "execution_count": 72,
   "metadata": {
    "collapsed": true
   },
   "outputs": [],
   "source": [
    "def normalize(Z,r):\n",
    "    norms = ctf.tensor(r)\n",
    "    norms.i(\"u\") << Z.i(\"pu\")*Z.i(\"pu\")\n",
    "    norms = 1./norms**.5\n",
    "    X = ctf.tensor(copy=Z)\n",
    "    Z.set_zero()\n",
    "    Z.i(\"pu\") << X.i(\"pu\")*norms.i(\"u\")\n",
    "    return 1./norms"
   ]
  },
  {
   "cell_type": "code",
   "execution_count": 73,
   "metadata": {
    "collapsed": true
   },
   "outputs": [],
   "source": [
    "def createOmega(I,J,K,sparsity):\n",
    "    print(I,J,K)\n",
    "    #Actf = ctf.tensor((I,J,K),sp=True)\n",
    "    #Actf.fill_sp_random(0,1,sparsity)\n",
    "    Actf = ctf.tensor((I,J,K))\n",
    "    Actf.fill_random(0,1)\n",
    "    omegactf = ((Actf > 0)*ctf.astensor(1.))\n",
    "    return omegactf\n",
    "\n",
    "\n",
    "def updateOmega(T,I,J,K):\n",
    "    '''\n",
    "    Gets a random subset of rows for each U,V,W iteration\n",
    "    '''\n",
    "    omegactf = ((T > 0)*ctf.astensor(1.))\n",
    "    return omegactf\n",
    "\n",
    "\n",
    "def getDenseOmega(T,U,V,W,regParam,omega,I,J,K,r,idx,string):\n",
    "    if (string ==\"i\"):\n",
    "        omega_curr = ctf.to_nparray(omega[idx,:,:].reshape(J*K))\n",
    "        omega_sum = np.cumsum(omega_curr).tolist()\n",
    "        omega_sum.insert(0,0)\n",
    "        del omega_sum[-1]\n",
    "        #print(\"omega prefix sum: \", omega_sum)\n",
    "        l = []\n",
    "        for x,y in enumerate(omega_sum):\n",
    "            if omega_curr[x] != 0:\n",
    "                l.append((x,int(y)))\n",
    "        #print(l)\n",
    "        num_nonzero = len(l)\n",
    "        \n",
    "        # form dense omega matrix\n",
    "        temp = np.zeros((J*K,len(l)))\n",
    "        for x,y in l:\n",
    "            temp[x][y] = 1\n",
    "        #print(\"omega_dense: \", omega_dense)\n",
    "       \n",
    "        omega_dense = ctf.astensor(temp)\n",
    "        #print(\"before\", (omega_dense, omega_dense.shape))\n",
    "        omega_dense = omega_dense.reshape(J,K,num_nonzero)\n",
    "        #print(\"after\", (omega_dense, omega_dense.shape))\n",
    "        \n",
    "    \n",
    "    if (string ==\"j\"):\n",
    "        omega_curr = ctf.to_nparray(omega[:,idx,:].reshape(I*K))\n",
    "        omega_sum = np.cumsum(omega_curr).tolist()\n",
    "        omega_sum.insert(0,0)\n",
    "        del omega_sum[-1]\n",
    "        l = []\n",
    "        for x,y in enumerate(omega_sum):\n",
    "            if omega_curr[x] != 0:\n",
    "                l.append((x,int(y)))\n",
    "        num_nonzero = len(l)\n",
    "        temp = np.zeros((I*K,len(l)))\n",
    "        for x,y in l:\n",
    "            temp[x,y] = 1\n",
    "        omega_dense = ctf.astensor(temp)\n",
    "        omega_dense = omega_dense.reshape(I,K,num_nonzero)        \n",
    "    \n",
    "    if (string ==\"k\"):\n",
    "        omega_curr = ctf.to_nparray(omega[:,:,idx].reshape(I*J))\n",
    "        omega_sum = np.cumsum(omega_curr).tolist()\n",
    "        omega_sum.insert(0,0)\n",
    "        del omega_sum[-1]\n",
    "        l = []\n",
    "        for x,y in enumerate(omega_sum):\n",
    "            if omega_curr[x] != 0:\n",
    "                l.append((x,int(y)))\n",
    "        num_nonzero = len(l)  \n",
    "        temp = np.zeros((I*J,len(l)))\n",
    "        for x,y in l:\n",
    "            temp[x][y] = 1\n",
    "        omega_dense = ctf.astensor(temp)\n",
    "        omega_dense = omega_dense.reshape(I,J,num_nonzero)\n",
    "        \n",
    "    return num_nonzero,omega_dense"
   ]
  },
  {
   "cell_type": "code",
   "execution_count": 266,
   "metadata": {
    "collapsed": true
   },
   "outputs": [],
   "source": [
    "def LS_SVD(Z,factor,r,Tbar,regParam,idx):\n",
    "    [U_,S_,VT_] = ctf.svd(Z)\n",
    "    S_ = S_/(S_*S_ + regParam*ctf.ones(S_.shape))\n",
    "    #print(Tbar)\n",
    "    factor.set_zero()\n",
    "    factor.i(\"r\") << VT_.i(\"kr\")*S_.i(\"k\")*U_.i(\"tk\")*Tbar.i(\"t\")\n",
    "    #print( VT_.to_nparray().T.shape,S_.to_nparray().shape,U_.to_nparray().T.shape,Tbar.to_nparray().shape)\n",
    "    #factor = VT_.to_nparray().T@S_.to_nparray()@U_.to_nparray().T@Tbar.to_nparray()\n",
    "    #if Z.shape[0] == 1:\n",
    "    #    print(\"Here\", factor,VT_,S_,U_,Tbar)\n",
    "    \n",
    "    return factor    "
   ]
  },
  {
   "cell_type": "code",
   "execution_count": 267,
   "metadata": {
    "collapsed": true
   },
   "outputs": [],
   "source": [
    "def LS_CG(Ax0,b,Z,x0,r):\n",
    "    rk = b - Ax0\n",
    "    sk = rk\n",
    "    xk = x0\n",
    "    for i in range(sk.shape[0]): # how many iterations?\n",
    "        Ask = ctf.tensor(r)\n",
    "        #print(i)\n",
    "        Ask.i(\"i\") << Z.i(\"ti\") * Z.i(\"tj\") * sk.i(\"j\")  # A @ sk\n",
    "        alpha = ctf.dot(rk,rk)/ctf.dot(sk, Ask)\n",
    "        xk1 = xk + alpha * sk\n",
    "        rk1 = rk - alpha * Ask\n",
    "        beta = ctf.dot(rk1,rk1)/ctf.dot(rk,rk)\n",
    "        sk1 = rk1 + beta*sk\n",
    "        rk = rk1\n",
    "        xk = xk1\n",
    "        sk = sk1\n",
    "    return xk"
   ]
  },
  {
   "cell_type": "code",
   "execution_count": 268,
   "metadata": {
    "collapsed": true
   },
   "outputs": [],
   "source": [
    "def CG(Z,Tbar,r):\n",
    "    x0 = ctf.random.random(r)\n",
    "    Ax0 = ctf.tensor((r))\n",
    "    Ax0.i(\"i\") << Z.i(\"ti\") * Z.i(\"tj\") * x0.i(\"j\")  # LHS; ATA using matrix-vector multiplication\n",
    "    b = ctf.dot(Z.transpose(),Tbar)                  # RHS; ATb\n",
    "    #print(b)\n",
    "    return LS_CG(Ax0,b,Z,x0,r)"
   ]
  },
  {
   "cell_type": "code",
   "execution_count": 269,
   "metadata": {
    "collapsed": true
   },
   "outputs": [],
   "source": [
    "def updateU(T,U,V,W,regParam,omega,I,J,K,r):\n",
    "    '''Update U matrix by using the formula'''\n",
    "    M1 = ctf.tensor((J,K,r))\n",
    "    M1.i(\"jku\") << V.i(\"ju\")*W.i(\"ku\")\n",
    "    \n",
    "    for i in range(I):\n",
    "        num_nonzero, dense_omega = getDenseOmega(T,U,V,W,regParam,omega,I,J,K,r,i,\"i\")\n",
    "\n",
    "        Z = ctf.tensor((num_nonzero,r))\n",
    "        Z.i(\"tr\") << dense_omega.i(\"jkt\")*M1.i(\"jkr\")\n",
    "        \n",
    "        Tbar = ctf.tensor((num_nonzero))\n",
    "        Tbar.i(\"t\") << dense_omega.i(\"jkt\") *T[i,:,:].i(\"jk\")\n",
    "        if i == I-1:\n",
    "            print(num_nonzero,i,T[i])\n",
    "            print(Z,Tbar)\n",
    "        #print(\"in\",U[i])\n",
    "        U[i,:] = LS_SVD(Z,U[i,:],r,Tbar,regParam,i)\n",
    "        #print(\"out\",U[i])\n",
    "        #U[i,:].set_zero()\n",
    "        #U[i,:] = CG(Z,Tbar,r)\n",
    "        \n",
    "        #Z = M1.reshape((I*J,r))\n",
    "        \n",
    "        ##Tbar = ctf.tensor((num_nonzero))\n",
    "        ##Tbar.i(\"t\") << dense_omega.i(\"jkt\") *T[i,:,:].i(\"jk\")\n",
    "        #Tbar = T[i].reshape((J*K))\n",
    "        \n",
    "        ##U[i,:] = LS_SVD(Z,U[i,:],r,Tbar,regParam,i)\n",
    "        #U[i,:].set_zero()\n",
    "        #U[i,:] = CG(Z,Tbar,r)\n",
    "    #print(U)\n",
    "    #print(normalize(U,r))\n",
    "    #U *= normalize(U,r)\n",
    "     \n",
    "    return U\n",
    "    \n",
    "    \n",
    "def updateV(T,U,V,W,regParam,omega,I,J,K,r):\n",
    "    '''Update V matrix by using the formula'''\n",
    "    \n",
    "    M2 = ctf.tensor((I,K,r))\n",
    "    M2.i(\"iku\") << U.i(\"iu\")*W.i(\"ku\")\n",
    "    \n",
    "    for j in range(J):\n",
    "        num_nonzero, dense_omega = getDenseOmega(T,U,V,W,regParam,omega,I,J,K,r,j,\"j\")\n",
    "        Z = ctf.tensor((num_nonzero,r))\n",
    "        Z.i(\"tr\") << dense_omega.i(\"ikt\")*M2.i(\"ikr\")\n",
    "        \n",
    "        Tbar = ctf.tensor((num_nonzero))\n",
    "        Tbar.i(\"t\") << dense_omega.i(\"ikt\") *T[:,j,:].i(\"ik\")\n",
    "        \n",
    "        V[j,:] = LS_SVD(Z,V[j,:],r,Tbar,regParam,j)\n",
    "        #V[j,:].set_zero()\n",
    "        #V[j,:] = CG(Z,Tbar,r)\n",
    "    #V *= normalize(V,r)\n",
    "    \n",
    "    return V  \n",
    "\n",
    "def updateW(T,U,V,W,regParam,omega,I,J,K,r):\n",
    "    '''Update V matrix by using the formula'''\n",
    "    \n",
    "    M3 = ctf.tensor((I,J,r))\n",
    "    M3.i(\"iju\") << U.i(\"iu\")*V.i(\"ju\")\n",
    "    \n",
    "    for k in range(K):\n",
    "        num_nonzero, dense_omega = getDenseOmega(T,U,V,W,regParam,omega,I,J,K,r,k,\"k\")\n",
    "        Z = ctf.tensor((num_nonzero,r))\n",
    "        Z.i(\"tr\") << dense_omega.i(\"ijt\")*M3.i(\"ijr\")\n",
    "        \n",
    "        Tbar = ctf.tensor((num_nonzero))\n",
    "        Tbar.i(\"t\") << dense_omega.i(\"ijt\") *T[:,:,k].i(\"ij\")\n",
    "        \n",
    "        W[k,:] = LS_SVD(Z,W[k,:],r,Tbar,regParam,k)\n",
    "        #W[k,:].set_zero()\n",
    "        #W[k,:] = CG(Z,Tbar,r)\n",
    "    #print(W,normalize(W,r))\n",
    "    #W *= normalize(W,r)\n",
    "    \n",
    "    return W"
   ]
  },
  {
   "cell_type": "code",
   "execution_count": 270,
   "metadata": {
    "collapsed": true
   },
   "outputs": [],
   "source": [
    "def getALSCtf(T,U,V,W,regParam,omega,I,J,K,r):\n",
    "    '''\n",
    "    Same thing as above, but CTF\n",
    "    '''\n",
    "    it = 0\n",
    "    E = ctf.tensor((I,J,K))\n",
    "    E.i(\"ijk\") << T.i(\"ijk\") - omega.i(\"ijk\")*U.i(\"iu\")*V.i(\"ju\")*W.i(\"ku\")\n",
    "    curr_err_norm = ctf.vecnorm(E) + (ctf.vecnorm(U) + ctf.vecnorm(V) + ctf.vecnorm(W))*regParam\n",
    "    \n",
    "    while True:\n",
    "        U = updateU(T,U,V,W,regParam,omega,I,J,K,r)\n",
    "        V = updateV(T,U,V,W,regParam,omega,I,J,K,r) \n",
    "        W = updateW(T,U,V,W,regParam,omega,I,J,K,r)\n",
    "        E.set_zero()\n",
    "        E.i(\"ijk\") << T.i(\"ijk\") - omega.i(\"ijk\")*U.i(\"iu\")*V.i(\"ju\")*W.i(\"ku\")\n",
    "        next_err_norm = ctf.vecnorm(E) + (ctf.vecnorm(U) + ctf.vecnorm(V) + ctf.vecnorm(W))*regParam\n",
    "            \n",
    "        print(curr_err_norm, next_err_norm)\n",
    "        \n",
    "        if abs(curr_err_norm - next_err_norm) < .001 or it > 10:\n",
    "            break\n",
    "        #print(next_err_norm/curr_err_norm)\n",
    "        curr_err_norm = next_err_norm\n",
    "        it += 1\n",
    "    \n",
    "    print(\"Number of iterations: \", it)\n",
    "    return U,V,W"
   ]
  },
  {
   "cell_type": "code",
   "execution_count": 271,
   "metadata": {
    "collapsed": true
   },
   "outputs": [],
   "source": [
    "def main():\n",
    "    \n",
    "    #ut = UnitTests()\n",
    "    #ut.runAllTests()\n",
    "\n",
    "    I = random.randint(6,6)\n",
    "    J = random.randint(6,6)\n",
    "    K = random.randint(6,6)\n",
    "    r = 2 \n",
    "    sparsity = .1\n",
    "    regParam = 0\n",
    "        \n",
    "    ctf.random.seed(42)\n",
    "    U = ctf.random.random((I,r))\n",
    "    V= ctf.random.random((J,r))\n",
    "    W= ctf.random.random((K,r))\n",
    "    \n",
    "    # 3rd-order tensor\n",
    "    T1 = ctf.tensor((I,J,K),sp=True)\n",
    "    T1.fill_sp_random(0,1,sparsity)\n",
    "    print(T1)\n",
    "    \n",
    "    T = ctf.tensor((I,J,K))\n",
    "    #T.i(\"ijk\") << T1.i(\"ijk\")\n",
    "    T += T1\n",
    "    print(T.sp)\n",
    "    #print(T)\n",
    "    omega = updateOmega(T,I,J,K)\n",
    "    \n",
    "    U = ctf.random.random((I,r))\n",
    "    V= ctf.random.random((J,r))\n",
    "    W= ctf.random.random((K,r))\n",
    "    \n",
    "    t = time.time()\n",
    "    \n",
    "    getALSCtf(T,U,V,W,regParam,omega,I,J,K,r)\n",
    "    \n",
    "    print(\"ALS costs time = \",np.round_(time.time()- t,4))    "
   ]
  },
  {
   "cell_type": "code",
   "execution_count": 272,
   "metadata": {},
   "outputs": [
    {
     "name": "stdout",
     "output_type": "stream",
     "text": [
      "array([[[ 0.        ,  0.        ,  0.        ,  0.        ,  0.57680418,\n",
      "          0.        ],\n",
      "        [ 0.        ,  0.        ,  0.        ,  0.        ,  0.        ,\n",
      "          0.        ],\n",
      "        [ 0.        ,  0.        ,  0.        ,  0.        ,  0.86126695,\n",
      "          0.        ],\n",
      "        [ 0.        ,  0.47571929,  0.        ,  0.        ,  0.        ,\n",
      "          0.        ],\n",
      "        [ 0.        ,  0.        ,  0.        ,  0.        ,  0.        ,\n",
      "          0.        ],\n",
      "        [ 0.        ,  0.        ,  0.        ,  0.        ,  0.        ,\n",
      "          0.        ]],\n",
      "\n",
      "       [[ 0.        ,  0.        ,  0.        ,  0.        ,  0.        ,\n",
      "          0.        ],\n",
      "        [ 0.        ,  0.        ,  0.        ,  0.82377136,  0.        ,\n",
      "          0.        ],\n",
      "        [ 0.        ,  0.        ,  0.        ,  0.        ,  0.        ,\n",
      "          0.        ],\n",
      "        [ 0.        ,  0.        ,  0.        ,  0.        ,  0.        ,\n",
      "          0.        ],\n",
      "        [ 0.        ,  0.        ,  0.        ,  0.        ,  0.49178657,\n",
      "          0.        ],\n",
      "        [ 0.        ,  0.        ,  0.        ,  0.        ,  0.        ,\n",
      "          0.        ]],\n",
      "\n",
      "       [[ 0.        ,  0.        ,  0.        ,  0.        ,  0.        ,\n",
      "          0.        ],\n",
      "        [ 0.        ,  0.        ,  0.        ,  0.        ,  0.44460889,\n",
      "          0.        ],\n",
      "        [ 0.        ,  0.        ,  0.        ,  0.        ,  0.        ,\n",
      "          0.31002823],\n",
      "        [ 0.        ,  0.        ,  0.        ,  0.29705068,  0.        ,\n",
      "          0.52279234],\n",
      "        [ 0.        ,  0.        ,  0.        ,  0.36487101,  0.        ,\n",
      "          0.        ],\n",
      "        [ 0.        ,  0.76379784,  0.        ,  0.30548466,  0.68605397,\n",
      "          0.        ]],\n",
      "\n",
      "       [[ 0.        ,  0.        ,  0.        ,  0.        ,  0.        ,\n",
      "          0.        ],\n",
      "        [ 0.        ,  0.72909564,  0.        ,  0.        ,  0.        ,\n",
      "          0.        ],\n",
      "        [ 0.        ,  0.        ,  0.        ,  0.        ,  0.        ,\n",
      "          0.        ],\n",
      "        [ 0.        ,  0.        ,  0.65071668,  0.        ,  0.        ,\n",
      "          0.81625825],\n",
      "        [ 0.        ,  0.78712804,  0.        ,  0.        ,  0.        ,\n",
      "          0.        ],\n",
      "        [ 0.        ,  0.        ,  0.        ,  0.        ,  0.        ,\n",
      "          0.        ]],\n",
      "\n",
      "       [[ 0.65209151,  0.        ,  0.        ,  0.        ,  0.        ,\n",
      "          0.        ],\n",
      "        [ 0.        ,  0.79384792,  0.        ,  0.        ,  0.        ,\n",
      "          0.        ],\n",
      "        [ 0.        ,  0.        ,  0.        ,  0.        ,  0.40255866,\n",
      "          0.        ],\n",
      "        [ 0.        ,  0.        ,  0.        ,  0.        ,  0.        ,\n",
      "          0.        ],\n",
      "        [ 0.        ,  0.        ,  0.        ,  0.        ,  0.        ,\n",
      "          0.        ],\n",
      "        [ 0.        ,  0.        ,  0.        ,  0.93661446,  0.        ,\n",
      "          0.        ]],\n",
      "\n",
      "       [[ 0.        ,  0.        ,  0.        ,  0.        ,  0.        ,\n",
      "          0.        ],\n",
      "        [ 0.        ,  0.        ,  0.        ,  0.        ,  0.        ,\n",
      "          0.        ],\n",
      "        [ 0.        ,  0.        ,  0.        ,  0.        ,  0.        ,\n",
      "          0.        ],\n",
      "        [ 0.        ,  0.        ,  0.        ,  0.        ,  0.        ,\n",
      "          0.        ],\n",
      "        [ 0.        ,  0.        ,  0.        ,  0.        ,  0.        ,\n",
      "          0.        ],\n",
      "        [ 0.        ,  0.        ,  0.        ,  0.        ,  0.        ,\n",
      "          0.3477634 ]]])\n",
      "0\n",
      "1 5 array([[ 0.       ,  0.       ,  0.       ,  0.       ,  0.       ,  0.       ],\n",
      "       [ 0.       ,  0.       ,  0.       ,  0.       ,  0.       ,  0.       ],\n",
      "       [ 0.       ,  0.       ,  0.       ,  0.       ,  0.       ,  0.       ],\n",
      "       [ 0.       ,  0.       ,  0.       ,  0.       ,  0.       ,  0.       ],\n",
      "       [ 0.       ,  0.       ,  0.       ,  0.       ,  0.       ,  0.       ],\n",
      "       [ 0.       ,  0.       ,  0.       ,  0.       ,  0.       ,\n",
      "         0.3477634]])\n",
      "array([[ 0.33052709,  0.39286558]]) array([ 0.3477634])\n",
      "1.8698258750589516 0.5811779315436434\n",
      "1 5 array([[ 0.       ,  0.       ,  0.       ,  0.       ,  0.       ,  0.       ],\n",
      "       [ 0.       ,  0.       ,  0.       ,  0.       ,  0.       ,  0.       ],\n",
      "       [ 0.       ,  0.       ,  0.       ,  0.       ,  0.       ,  0.       ],\n",
      "       [ 0.       ,  0.       ,  0.       ,  0.       ,  0.       ,  0.       ],\n",
      "       [ 0.       ,  0.       ,  0.       ,  0.       ,  0.       ,  0.       ],\n",
      "       [ 0.       ,  0.       ,  0.       ,  0.       ,  0.       ,\n",
      "         0.3477634]])\n",
      "array([[ 0.20931353,  0.61100614]]) array([ 0.3477634])\n",
      "0.5811779315436434 0.3745989201997876\n",
      "1 5 array([[ 0.       ,  0.       ,  0.       ,  0.       ,  0.       ,  0.       ],\n",
      "       [ 0.       ,  0.       ,  0.       ,  0.       ,  0.       ,  0.       ],\n",
      "       [ 0.       ,  0.       ,  0.       ,  0.       ,  0.       ,  0.       ],\n",
      "       [ 0.       ,  0.       ,  0.       ,  0.       ,  0.       ,  0.       ],\n",
      "       [ 0.       ,  0.       ,  0.       ,  0.       ,  0.       ,  0.       ],\n",
      "       [ 0.       ,  0.       ,  0.       ,  0.       ,  0.       ,\n",
      "         0.3477634]])\n",
      "array([[ 0.25988032,  0.72438995]]) array([ 0.3477634])\n",
      "0.3745989201997876 0.27005945722441915\n",
      "1 5 array([[ 0.       ,  0.       ,  0.       ,  0.       ,  0.       ,  0.       ],\n",
      "       [ 0.       ,  0.       ,  0.       ,  0.       ,  0.       ,  0.       ],\n",
      "       [ 0.       ,  0.       ,  0.       ,  0.       ,  0.       ,  0.       ],\n",
      "       [ 0.       ,  0.       ,  0.       ,  0.       ,  0.       ,  0.       ],\n",
      "       [ 0.       ,  0.       ,  0.       ,  0.       ,  0.       ,  0.       ],\n",
      "       [ 0.       ,  0.       ,  0.       ,  0.       ,  0.       ,\n",
      "         0.3477634]])\n",
      "array([[ 0.30852989,  0.76985326]]) array([ 0.3477634])\n",
      "0.27005945722441915 0.24306851014155037\n",
      "1 5 array([[ 0.       ,  0.       ,  0.       ,  0.       ,  0.       ,  0.       ],\n",
      "       [ 0.       ,  0.       ,  0.       ,  0.       ,  0.       ,  0.       ],\n",
      "       [ 0.       ,  0.       ,  0.       ,  0.       ,  0.       ,  0.       ],\n",
      "       [ 0.       ,  0.       ,  0.       ,  0.       ,  0.       ,  0.       ],\n",
      "       [ 0.       ,  0.       ,  0.       ,  0.       ,  0.       ,  0.       ],\n",
      "       [ 0.       ,  0.       ,  0.       ,  0.       ,  0.       ,\n",
      "         0.3477634]])\n",
      "array([[ 0.32568626,  0.80613199]]) array([ 0.3477634])\n",
      "0.24306851014155037 0.22379411868669125\n",
      "1 5 array([[ 0.       ,  0.       ,  0.       ,  0.       ,  0.       ,  0.       ],\n",
      "       [ 0.       ,  0.       ,  0.       ,  0.       ,  0.       ,  0.       ],\n",
      "       [ 0.       ,  0.       ,  0.       ,  0.       ,  0.       ,  0.       ],\n",
      "       [ 0.       ,  0.       ,  0.       ,  0.       ,  0.       ,  0.       ],\n",
      "       [ 0.       ,  0.       ,  0.       ,  0.       ,  0.       ,  0.       ],\n",
      "       [ 0.       ,  0.       ,  0.       ,  0.       ,  0.       ,\n",
      "         0.3477634]])\n",
      "array([[ 0.31587278,  0.84227135]]) array([ 0.3477634])\n",
      "0.22379411868669125 0.20644835560011582\n",
      "1 5 array([[ 0.       ,  0.       ,  0.       ,  0.       ,  0.       ,  0.       ],\n",
      "       [ 0.       ,  0.       ,  0.       ,  0.       ,  0.       ,  0.       ],\n",
      "       [ 0.       ,  0.       ,  0.       ,  0.       ,  0.       ,  0.       ],\n",
      "       [ 0.       ,  0.       ,  0.       ,  0.       ,  0.       ,  0.       ],\n",
      "       [ 0.       ,  0.       ,  0.       ,  0.       ,  0.       ,  0.       ],\n",
      "       [ 0.       ,  0.       ,  0.       ,  0.       ,  0.       ,\n",
      "         0.3477634]])\n",
      "array([[ 0.29232208,  0.87612252]]) array([ 0.3477634])\n",
      "0.20644835560011582 0.18961256312225797\n",
      "1 5 array([[ 0.       ,  0.       ,  0.       ,  0.       ,  0.       ,  0.       ],\n",
      "       [ 0.       ,  0.       ,  0.       ,  0.       ,  0.       ,  0.       ],\n",
      "       [ 0.       ,  0.       ,  0.       ,  0.       ,  0.       ,  0.       ],\n",
      "       [ 0.       ,  0.       ,  0.       ,  0.       ,  0.       ,  0.       ],\n",
      "       [ 0.       ,  0.       ,  0.       ,  0.       ,  0.       ,  0.       ],\n",
      "       [ 0.       ,  0.       ,  0.       ,  0.       ,  0.       ,\n",
      "         0.3477634]])\n",
      "array([[ 0.263665  ,  0.90522903]]) array([ 0.3477634])\n",
      "0.18961256312225797 0.17400936159628985\n",
      "1 5 array([[ 0.       ,  0.       ,  0.       ,  0.       ,  0.       ,  0.       ],\n",
      "       [ 0.       ,  0.       ,  0.       ,  0.       ,  0.       ,  0.       ],\n",
      "       [ 0.       ,  0.       ,  0.       ,  0.       ,  0.       ,  0.       ],\n",
      "       [ 0.       ,  0.       ,  0.       ,  0.       ,  0.       ,  0.       ],\n",
      "       [ 0.       ,  0.       ,  0.       ,  0.       ,  0.       ,  0.       ],\n",
      "       [ 0.       ,  0.       ,  0.       ,  0.       ,  0.       ,\n"
     ]
    },
    {
     "name": "stdout",
     "output_type": "stream",
     "text": [
      "         0.3477634]])\n",
      "array([[ 0.23810394,  0.92632205]]) array([ 0.3477634])\n",
      "0.17400936159628985 0.16061193099449178\n",
      "1 5 array([[ 0.       ,  0.       ,  0.       ,  0.       ,  0.       ,  0.       ],\n",
      "       [ 0.       ,  0.       ,  0.       ,  0.       ,  0.       ,  0.       ],\n",
      "       [ 0.       ,  0.       ,  0.       ,  0.       ,  0.       ,  0.       ],\n",
      "       [ 0.       ,  0.       ,  0.       ,  0.       ,  0.       ,  0.       ],\n",
      "       [ 0.       ,  0.       ,  0.       ,  0.       ,  0.       ,  0.       ],\n",
      "       [ 0.       ,  0.       ,  0.       ,  0.       ,  0.       ,\n",
      "         0.3477634]])\n",
      "array([[ 0.21962434,  0.93829997]]) array([ 0.3477634])\n",
      "0.16061193099449178 0.1493955003310174\n",
      "1 5 array([[ 0.       ,  0.       ,  0.       ,  0.       ,  0.       ,  0.       ],\n",
      "       [ 0.       ,  0.       ,  0.       ,  0.       ,  0.       ,  0.       ],\n",
      "       [ 0.       ,  0.       ,  0.       ,  0.       ,  0.       ,  0.       ],\n",
      "       [ 0.       ,  0.       ,  0.       ,  0.       ,  0.       ,  0.       ],\n",
      "       [ 0.       ,  0.       ,  0.       ,  0.       ,  0.       ,  0.       ],\n",
      "       [ 0.       ,  0.       ,  0.       ,  0.       ,  0.       ,\n",
      "         0.3477634]])\n",
      "array([[ 0.20742977,  0.94261169]]) array([ 0.3477634])\n",
      "0.1493955003310174 0.1398235016914038\n",
      "1 5 array([[ 0.       ,  0.       ,  0.       ,  0.       ,  0.       ,  0.       ],\n",
      "       [ 0.       ,  0.       ,  0.       ,  0.       ,  0.       ,  0.       ],\n",
      "       [ 0.       ,  0.       ,  0.       ,  0.       ,  0.       ,  0.       ],\n",
      "       [ 0.       ,  0.       ,  0.       ,  0.       ,  0.       ,  0.       ],\n",
      "       [ 0.       ,  0.       ,  0.       ,  0.       ,  0.       ,  0.       ],\n",
      "       [ 0.       ,  0.       ,  0.       ,  0.       ,  0.       ,\n",
      "         0.3477634]])\n",
      "array([[ 0.19909941,  0.94149995]]) array([ 0.3477634])\n",
      "0.1398235016914038 0.1314273843354791\n",
      "Number of iterations:  11\n",
      "ALS costs time =  7.5668\n"
     ]
    }
   ],
   "source": [
    "main()"
   ]
  },
  {
   "cell_type": "markdown",
   "metadata": {},
   "source": [
    "## TEST"
   ]
  },
  {
   "cell_type": "code",
   "execution_count": 203,
   "metadata": {},
   "outputs": [
    {
     "data": {
      "text/plain": [
       "array([[[ 0.        ,  0.        ,  0.        ,  0.        ,  0.        ],\n",
       "        [ 0.74516551,  0.        ,  0.32375825,  0.75096938,  0.        ],\n",
       "        [ 0.        ,  0.        ,  0.        ,  0.        ,  0.        ],\n",
       "        [ 0.        ,  0.        ,  0.        ,  0.        ,  0.        ]],\n",
       "\n",
       "       [[ 0.        ,  0.        ,  0.        ,  0.        ,  0.        ],\n",
       "        [ 0.        ,  0.80433241,  0.        ,  0.        ,  0.        ],\n",
       "        [ 0.        ,  0.04351748,  0.        ,  0.        ,  0.        ],\n",
       "        [ 0.        ,  0.        ,  0.        ,  0.        ,  0.        ]],\n",
       "\n",
       "       [[ 0.        ,  0.        ,  0.        ,  0.        ,  0.        ],\n",
       "        [ 0.        ,  0.92610249,  0.        ,  0.        ,  0.        ],\n",
       "        [ 0.        ,  0.        ,  0.        ,  0.        ,  0.        ],\n",
       "        [ 0.        ,  0.        ,  0.        ,  0.        ,  0.        ]]])"
      ]
     },
     "execution_count": 203,
     "metadata": {},
     "output_type": "execute_result"
    }
   ],
   "source": [
    "I = 3\n",
    "J = 4\n",
    "K = 5\n",
    "r = 2\n",
    "sparsity = .1\n",
    "regParam = 0.001\n",
    "        \n",
    "ctf.random.seed(42)\n",
    "U = ctf.random.random((I,r))\n",
    "V= ctf.random.random((J,r))\n",
    "W= ctf.random.random((K,r))\n",
    "    \n",
    "# 3rd-order tensor\n",
    "T = ctf.tensor((I,J,K),sp=True)\n",
    "T.fill_sp_random(0,1,sparsity)\n",
    "omega = updateOmega(T,I,J,K)\n",
    "T"
   ]
  },
  {
   "cell_type": "code",
   "execution_count": 204,
   "metadata": {},
   "outputs": [
    {
     "data": {
      "text/plain": [
       "array([[ 0.22637057,  0.36907858],\n",
       "       [ 0.01281813,  0.02520936],\n",
       "       [ 0.20474899,  0.05827465]])"
      ]
     },
     "execution_count": 204,
     "metadata": {},
     "output_type": "execute_result"
    }
   ],
   "source": [
    "M1 = ctf.tensor((J,K,r))\n",
    "M1.i(\"jku\") << V.i(\"ju\")*W.i(\"ku\") \n",
    "num_nonzero, dense_omega = getDenseOmega(T,U,V,W,regParam,omega,I,J,K,r,0,\"i\")\n",
    "Z = ctf.tensor((num_nonzero,r))\n",
    "Z.i(\"tr\") << dense_omega.i(\"jkt\")*M1.i(\"jkr\")\n",
    "Z"
   ]
  },
  {
   "cell_type": "code",
   "execution_count": 205,
   "metadata": {},
   "outputs": [
    {
     "data": {
      "text/plain": [
       "array([ 0.74516551,  0.32375825,  0.75096938])"
      ]
     },
     "execution_count": 205,
     "metadata": {},
     "output_type": "execute_result"
    }
   ],
   "source": [
    "Tbar = ctf.tensor((num_nonzero))\n",
    "Tbar.i(\"t\") << dense_omega.i(\"jkt\") *T.i(\"ijk\")\n",
    "Tbar"
   ]
  },
  {
   "cell_type": "code",
   "execution_count": 206,
   "metadata": {},
   "outputs": [
    {
     "data": {
      "text/plain": [
       "array([ 3.70263153, -0.19804308])"
      ]
     },
     "execution_count": 206,
     "metadata": {},
     "output_type": "execute_result"
    }
   ],
   "source": [
    "from scipy.sparse.linalg import lsqr as lsqr\n",
    "la.lstsq(ctf.to_nparray(Z), ctf.to_nparray(Tbar))[0]"
   ]
  },
  {
   "cell_type": "code",
   "execution_count": 178,
   "metadata": {},
   "outputs": [
    {
     "data": {
      "text/plain": [
       "array([ 0.10926364,  0.12959503])"
      ]
     },
     "execution_count": 178,
     "metadata": {},
     "output_type": "execute_result"
    }
   ],
   "source": [
    "x0 = ctf.random.random(r)\n",
    "#n = b.shape[0]\n",
    "\n",
    "Ax0 = ctf.dot(ctf.dot(Z.transpose(),Z),x0) # LHS; using matrix-matrix multiplication\n",
    "b = ctf.dot(Z.transpose(),Tbar)  # ATb; RHS\n",
    "Ax0"
   ]
  },
  {
   "cell_type": "code",
   "execution_count": 179,
   "metadata": {},
   "outputs": [
    {
     "data": {
      "text/plain": [
       "array([ 0.10926364,  0.12959503])"
      ]
     },
     "execution_count": 179,
     "metadata": {},
     "output_type": "execute_result"
    }
   ],
   "source": [
    "Ax0_ = ctf.tensor((r))\n",
    "Ax0_.i(\"i\") << Z.i(\"ti\") * Z.i(\"tj\") * x0.i(\"j\")  # LHS; using matrix-vector multiplication\n",
    "Ax0_"
   ]
  },
  {
   "cell_type": "code",
   "execution_count": null,
   "metadata": {
    "collapsed": true
   },
   "outputs": [],
   "source": [
    "LS_CG(Ax0_,b,Z,x0)"
   ]
  },
  {
   "cell_type": "code",
   "execution_count": null,
   "metadata": {
    "collapsed": true
   },
   "outputs": [],
   "source": [
    "U"
   ]
  },
  {
   "cell_type": "code",
   "execution_count": null,
   "metadata": {
    "collapsed": true
   },
   "outputs": [],
   "source": [
    "U[0,:] = LS_CG(Ax0_,b,Z,x0)\n",
    "U"
   ]
  },
  {
   "cell_type": "code",
   "execution_count": null,
   "metadata": {
    "collapsed": true
   },
   "outputs": [],
   "source": [
    "LS_SVD(Z,U,r,Tbar,regParam) "
   ]
  },
  {
   "cell_type": "code",
   "execution_count": null,
   "metadata": {
    "collapsed": true
   },
   "outputs": [],
   "source": []
  }
 ],
 "metadata": {
  "kernelspec": {
   "display_name": "Python 3",
   "language": "python",
   "name": "python3"
  },
  "language_info": {
   "codemirror_mode": {
    "name": "ipython",
    "version": 3
   },
   "file_extension": ".py",
   "mimetype": "text/x-python",
   "name": "python",
   "nbconvert_exporter": "python",
   "pygments_lexer": "ipython3",
   "version": "3.6.4"
  }
 },
 "nbformat": 4,
 "nbformat_minor": 2
}
