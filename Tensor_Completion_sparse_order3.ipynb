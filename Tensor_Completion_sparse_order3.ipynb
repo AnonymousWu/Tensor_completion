{
 "cells": [
  {
   "cell_type": "code",
   "execution_count": 1,
   "metadata": {},
   "outputs": [],
   "source": [
    "import ctf,time,random\n",
    "import numpy as np\n",
    "import numpy.linalg as la\n",
    "from ctf import random as crandom\n",
    "glob_comm = ctf.comm()"
   ]
  },
  {
   "cell_type": "code",
   "execution_count": 2,
   "metadata": {},
   "outputs": [],
   "source": [
    "class UnitTests:\n",
    "        \n",
    "    def test_3d_purturb1(self):\n",
    "        \n",
    "        I = random.randint(3,5)\n",
    "        J = random.randint(3,5)\n",
    "        K = random.randint(3,5)\n",
    "        r = 2 \n",
    "        sparsity = .2\n",
    "        regParam = 10\n",
    "        \n",
    "        ctf.random.seed(42)\n",
    "        U = ctf.random.random((I,r))\n",
    "        V= ctf.random.random((J,r))\n",
    "        W= ctf.random.random((K,r))\n",
    "    \n",
    "    \n",
    "        # 3rd-order tensor\n",
    "        T = ctf.tensor((I,J,K))\n",
    "        T.fill_random(0,1)\n",
    "        omega = createOmega(I,J,K,sparsity)\n",
    "        T.i(\"ijk\") << omega.i(\"ijk\")*U.i(\"iu\")*V.i(\"ju\")*W.i(\"ku\")\n",
    "        omega = updateOmega(T,I,J,K)\n",
    "        \n",
    "        print(\"U: \",U)\n",
    "                \n",
    "        # purturb the first factor matrix\n",
    "        U += crandom.random((I,r))*.01\n",
    "        # call updateU function\n",
    "        nU = updateU(T,U,V,W,regParam,omega,I,J,K,r)\n",
    "        \n",
    "        print(\"nU: \",nU)\n",
    "        \n",
    "        nT = ctf.tensor((I,J,K))\n",
    "        nT.i(\"ijk\") << omega.i(\"ijk\")*nU.i(\"iu\")*V.i(\"ju\")*W.i(\"ku\")\n",
    "        \n",
    "        print(\"nT: \",nT)\n",
    "        print(\"T: \",T)\n",
    "    \n",
    "        assert(ctf.all(ctf.abs(nT - T < 1e-10)))\n",
    "        print(\"passed test: test_3d_purturb1\")\n",
    "\n",
    "        \n",
    "    def runAllTests(self):\n",
    "        self.test_3d_purturb1()"
   ]
  },
  {
   "cell_type": "code",
   "execution_count": 3,
   "metadata": {},
   "outputs": [],
   "source": [
    "def normalize(Z,r):\n",
    "    norms = ctf.tensor(r)\n",
    "    norms.i(\"u\") << Z.i(\"pu\")*Z.i(\"pu\")\n",
    "    norms = 1./norms**.5\n",
    "    X = ctf.tensor(copy=Z)\n",
    "    Z.set_zero()\n",
    "    Z.i(\"pu\") << X.i(\"pu\")*norms.i(\"u\")\n",
    "    return 1./norms"
   ]
  },
  {
   "cell_type": "code",
   "execution_count": 105,
   "metadata": {},
   "outputs": [],
   "source": [
    "def createOmega(I,J,K,sparsity):\n",
    "    Actf = ctf.tensor((I,J,K),sp=True)\n",
    "    Actf.fill_sp_random(0,1,sparsity)\n",
    "    omegactf = ((Actf > 0)*ctf.astensor(1.))\n",
    "    return omegactf\n",
    "\n",
    "\n",
    "def updateOmega(T,I,J,K):\n",
    "    '''\n",
    "    Gets a random subset of rows for each U,V,W iteration\n",
    "    '''\n",
    "    omegactf = ((T > 0)*ctf.astensor(1.))\n",
    "    return omegactf\n",
    "\n",
    "\n",
    "\n",
    "def getDenseOmega(T,U,V,W,regParam,omega,I,J,K,r,idx,string):\n",
    "    if (string ==\"i\"):\n",
    "        omega_curr = ctf.to_nparray(omega[idx,:,:].reshape(J*K))\n",
    "        omega_sum = np.cumsum(omega_curr)-1\n",
    "        #print(\"omega prefix sum: \", omega_sum)\n",
    "        l = []\n",
    "        for x,y in enumerate(omega_sum):\n",
    "            if omega_curr[x] != 0:\n",
    "                l.append((x,int(y)))\n",
    "        #print(l)\n",
    "        num_nonzero = len(l)\n",
    "        \n",
    "        # form dense omega matrix\n",
    "        temp = np.zeros((J*K,len(l)))\n",
    "        for x,y in l:\n",
    "            temp[x][y] = 1\n",
    "            omega_dense = temp.T\n",
    "        #print(\"omega_dense: \", omega_dense)\n",
    "    \n",
    "        omega_dense = ctf.astensor(omega_dense)\n",
    "        omega_dense = omega_dense.reshape(J,K,num_nonzero)\n",
    "        \n",
    "    \n",
    "    if (string ==\"j\"):\n",
    "        omega_curr = ctf.to_nparray(omega[:,idx,:].reshape(I*K))\n",
    "        omega_sum = np.cumsum(omega_curr)-1\n",
    "        l = []\n",
    "        for x,y in enumerate(omega_sum):\n",
    "            if omega_curr[x] != 0:\n",
    "                l.append((x,int(y)))\n",
    "        num_nonzero = len(l)\n",
    "        # form dense omega matrix\n",
    "        temp = np.zeros((I*K,len(l)))\n",
    "        for x,y in l:\n",
    "            temp[x][y] = 1\n",
    "            omega_dense = temp.T  \n",
    "        omega_dense = ctf.astensor(omega_dense)\n",
    "        omega_dense = omega_dense.reshape(I,K,num_nonzero)        \n",
    "    \n",
    "    if (string ==\"k\"):\n",
    "        omega_curr = ctf.to_nparray(omega[:,:,idx].reshape(I*J))\n",
    "        omega_sum = np.cumsum(omega_curr)-1\n",
    "        l = []\n",
    "        for x,y in enumerate(omega_sum):\n",
    "            if omega_curr[x] != 0:\n",
    "                l.append((x,int(y)))\n",
    "        num_nonzero = len(l)  \n",
    "        # form dense omega matrix\n",
    "        temp = np.zeros((I*J,len(l)))\n",
    "        for x,y in l:\n",
    "            temp[x][y] = 1\n",
    "            omega_dense = temp.T   \n",
    "        omega_dense = ctf.astensor(omega_dense)\n",
    "        omega_dense = omega_dense.reshape(I,J,num_nonzero)\n",
    "        \n",
    "    return num_nonzero,omega_dense"
   ]
  },
  {
   "cell_type": "code",
   "execution_count": 106,
   "metadata": {},
   "outputs": [],
   "source": [
    "def LS_SVD(A,factor,r,Tbar):\n",
    "    [U_,S_,V_] = ctf.svd(A)\n",
    "    S_ = S_/(S_*S_ + regParam*ctf.ones(r))\n",
    "    \n",
    "    factor.set_zero()\n",
    "    factor.i(\"ir\") << V_.i(\"kr\")*S_.i(\"k\")*U_.i(\"tk\")*Tbar.i(\"it\")\n",
    "    \n",
    "    return factor    "
   ]
  },
  {
   "cell_type": "code",
   "execution_count": 107,
   "metadata": {},
   "outputs": [],
   "source": [
    "def updateU(T,U,V,W,regParam,omega,I,J,K,r):\n",
    "    '''Update U matrix by using the formula'''\n",
    "    M1 = ctf.tensor((J,K,r))\n",
    "    M1.i(\"jku\") << V.i(\"ju\")*W.i(\"ku\")\n",
    "    \n",
    "    for i in range(I):\n",
    "        num_nonzero, dense_omega = getDenseOmega(T,U,V,W,regParam,omega,I,J,K,r,i,\"i\")\n",
    "        Z = ctf.tensor((num_nonzero,r))\n",
    "        Z.i(\"tr\") << dense_omega.i(\"jkt\")*M1.i(\"jkr\")\n",
    "        \n",
    "        Tbar = ctf.tensor((I,num_nonzero))\n",
    "        Tbar.i(\"it\") << T.i(\"ijk\")*dense_omega.i(\"jkt\")\n",
    "        \n",
    "        U = LS_SVD(Z,U,r,Tbar) \n",
    "    #U *= normalize(U,r)\n",
    "     \n",
    "    return U\n",
    "    \n",
    "    \n",
    "def updateV(T,U,V,W,regParam,omega,I,J,K,r):\n",
    "    '''Update V matrix by using the formula'''\n",
    "    \n",
    "    M2 = ctf.tensor((I,K,r))\n",
    "    M2.i(\"iku\") << U.i(\"iu\")*W.i(\"ku\")\n",
    "    \n",
    "    for j in range(J):\n",
    "        num_nonzero, dense_omega = getDenseOmega(T,U,V,W,regParam,omega,I,J,K,r,j,\"j\")\n",
    "        Z = ctf.tensor((num_nonzero,r))\n",
    "        Z.i(\"tr\") << dense_omega.i(\"ikt\")*M1.i(\"ikr\")\n",
    "        \n",
    "        Tbar = ctf.tensor((J,num_nonzero))\n",
    "        Tbar.i(\"jt\") << T.i(\"ijk\")*dense_omega.i(\"ikt\")\n",
    "        \n",
    "        V = LS_SVD(Z,V,r,Tbar)\n",
    "    #V *= normalize(V,r)\n",
    "    \n",
    "    return V  \n",
    "\n",
    "def updateW(T,U,V,W,regParam,omega,I,J,K,r):\n",
    "    '''Update V matrix by using the formula'''\n",
    "    \n",
    "    M3 = ctf.tensor((I,J,r))\n",
    "    M3.i(\"iju\") << U.i(\"iu\")*V.i(\"ju\")\n",
    "    \n",
    "    for k in range(K):\n",
    "        num_nonzero, dense_omega = getDenseOmega(T,U,V,W,regParam,omega,I,J,K,r,k,\"k\")\n",
    "        Z = ctf.tensor((num_nonzero,r))\n",
    "        Z.i(\"tr\") << dense_omega.i(\"ijt\")*M1.i(\"ijr\")\n",
    "        \n",
    "        Tbar = ctf.tensor((K,num_nonzero))\n",
    "        Tbar.i(\"kt\") << T.i(\"ijk\")*dense_omega.i(\"ijt\")\n",
    "        \n",
    "        W = LS_SVD(Z,W,r,Tbar)\n",
    "    #W *= normalize(W,r)\n",
    "    \n",
    "    return W"
   ]
  },
  {
   "cell_type": "code",
   "execution_count": 108,
   "metadata": {},
   "outputs": [],
   "source": [
    "def getALSCtf(T,U,V,W,regParam,omega,I,J,K,r):\n",
    "    '''\n",
    "    Same thing as above, but CTF\n",
    "    '''\n",
    "    it = 0\n",
    "    E = ctf.tensor((I,J,K))\n",
    "    E.i(\"ijk\") << T.i(\"ijk\") - omega.i(\"ijk\")*U.i(\"iu\")*V.i(\"ju\")*W.i(\"ku\")\n",
    "    curr_err_norm = ctf.vecnorm(E) + (ctf.vecnorm(U) + ctf.vecnorm(V) + ctf.vecnorm(W))*regParam\n",
    "    \n",
    "    while True:\n",
    "        U = updateU(T,U,V,W,regParam,omega,I,J,K,r)\n",
    "        V = updateV(T,U,V,W,regParam,omega,I,J,K,r) \n",
    "        W = updateW(T,U,V,W,regParam,omega,I,J,K,r)\n",
    "        E.set_zero()\n",
    "        E.i(\"ijk\") << T.i(\"ijk\") - omega.i(\"ijk\")*U.i(\"iu\")*V.i(\"ju\")*W.i(\"ku\")\n",
    "        next_err_norm = ctf.vecnorm(E) + (ctf.vecnorm(U) + ctf.vecnorm(V) + ctf.vecnorm(W))*regParam\n",
    "        \n",
    "        if abs(curr_err_norm - next_err_norm) < .001 or it > 100:\n",
    "            break\n",
    "            \n",
    "        print(curr_err_norm, next_err_norm)\n",
    "        #print(next_err_norm/curr_err_norm)\n",
    "        curr_err_norm = next_err_norm\n",
    "        it += 1\n",
    "    \n",
    "    print(\"Number of iterations: \", it)\n",
    "    return U,V,W"
   ]
  },
  {
   "cell_type": "code",
   "execution_count": 109,
   "metadata": {},
   "outputs": [],
   "source": [
    "def main():\n",
    "    \n",
    "    #ut = UnitTests()\n",
    "    #ut.runAllTests()\n",
    "\n",
    "    I = random.randint(10,20)\n",
    "    J = random.randint(10,20)\n",
    "    K = random.randint(10,20)\n",
    "    r = 2 \n",
    "    sparsity = .1\n",
    "    regParam = 0.001\n",
    "        \n",
    "    ctf.random.seed(42)\n",
    "    U = ctf.random.random((I,r))\n",
    "    V= ctf.random.random((J,r))\n",
    "    W= ctf.random.random((K,r))\n",
    "    \n",
    "    # 3rd-order tensor\n",
    "    T = ctf.tensor((I,J,K),sp=True)\n",
    "    T.fill_sp_random(0,1,sparsity)\n",
    "    omega = updateOmega(T,I,J,K)\n",
    "    \n",
    "    U = ctf.random.random((I,r))\n",
    "    V= ctf.random.random((J,r))\n",
    "    W= ctf.random.random((K,r))\n",
    "    \n",
    "    t = time.time()\n",
    "    \n",
    "    getALSCtf(T,U,V,W,regParam,omega,I,J,K,r)\n",
    "    \n",
    "    print(\"ALS costs time = \",np.round_(time.time()- t,4))    "
   ]
  },
  {
   "cell_type": "code",
   "execution_count": 110,
   "metadata": {},
   "outputs": [
    {
     "name": "stdout",
     "output_type": "stream",
     "text": [
      "6.008075310514884 8.232731907777827\n",
      "8.232731907777827 8.231538380690708\n",
      "Number of iterations:  2\n",
      "ALS costs time =  4.4882\n"
     ]
    }
   ],
   "source": [
    "main()"
   ]
  },
  {
   "cell_type": "markdown",
   "metadata": {},
   "source": [
    "## TEST"
   ]
  },
  {
   "cell_type": "code",
   "execution_count": 50,
   "metadata": {},
   "outputs": [
    {
     "data": {
      "text/plain": [
       "array([[[ 0.        ,  0.        ,  0.        ,  0.        ,  0.        ],\n",
       "        [ 0.74516551,  0.        ,  0.32375825,  0.75096938,  0.        ],\n",
       "        [ 0.        ,  0.        ,  0.        ,  0.        ,  0.        ],\n",
       "        [ 0.        ,  0.        ,  0.        ,  0.        ,  0.        ]],\n",
       "\n",
       "       [[ 0.        ,  0.        ,  0.        ,  0.        ,  0.        ],\n",
       "        [ 0.        ,  0.80433241,  0.        ,  0.        ,  0.        ],\n",
       "        [ 0.        ,  0.04351748,  0.        ,  0.        ,  0.        ],\n",
       "        [ 0.        ,  0.        ,  0.        ,  0.        ,  0.        ]],\n",
       "\n",
       "       [[ 0.        ,  0.        ,  0.        ,  0.        ,  0.        ],\n",
       "        [ 0.        ,  0.92610249,  0.        ,  0.        ,  0.        ],\n",
       "        [ 0.        ,  0.        ,  0.        ,  0.        ,  0.        ],\n",
       "        [ 0.        ,  0.        ,  0.        ,  0.        ,  0.        ]]])"
      ]
     },
     "execution_count": 50,
     "metadata": {},
     "output_type": "execute_result"
    }
   ],
   "source": [
    "I = 3\n",
    "J = 4\n",
    "K = 5\n",
    "r = 2\n",
    "sparsity = .1\n",
    "regParam = 0.001\n",
    "        \n",
    "ctf.random.seed(42)\n",
    "U = ctf.random.random((I,r))\n",
    "V= ctf.random.random((J,r))\n",
    "W= ctf.random.random((K,r))\n",
    "    \n",
    "# 3rd-order tensor\n",
    "T = ctf.tensor((I,J,K),sp=True)\n",
    "T.fill_sp_random(0,1,sparsity)\n",
    "omega = updateOmega(T,I,J,K)\n",
    "T"
   ]
  },
  {
   "cell_type": "code",
   "execution_count": 93,
   "metadata": {},
   "outputs": [
    {
     "data": {
      "text/plain": [
       "(4, 5, 3)"
      ]
     },
     "execution_count": 93,
     "metadata": {},
     "output_type": "execute_result"
    }
   ],
   "source": [
    "num_nonzero,dense_omega = getDenseOmega(T,U,V,W,regParam,omega,I,J,K,r,0,'i')\n",
    "dense_omega.shape"
   ]
  },
  {
   "cell_type": "code",
   "execution_count": 94,
   "metadata": {},
   "outputs": [
    {
     "name": "stdout",
     "output_type": "stream",
     "text": [
      "Z:  array([[ 0.63262532,  0.32515675],\n",
      "       [ 0.        ,  0.        ],\n",
      "       [ 0.43277699,  0.16739528]])\n"
     ]
    },
    {
     "data": {
      "text/plain": [
       "((3, 2), (4, 5, 3), (4, 5, 2))"
      ]
     },
     "execution_count": 94,
     "metadata": {},
     "output_type": "execute_result"
    }
   ],
   "source": [
    "M1 = ctf.tensor((J,K,r))\n",
    "M1.i(\"jku\") << V.i(\"ju\")*W.i(\"ku\")\n",
    "Z = ctf.tensor((num_nonzero,r))\n",
    "Z.i(\"tr\") << dense_omega.i(\"jkt\")*M1.i(\"jkr\")\n",
    "print(\"Z: \",Z)\n",
    "Z.shape, dense_omega.shape, M1.shape"
   ]
  },
  {
   "cell_type": "code",
   "execution_count": 96,
   "metadata": {},
   "outputs": [],
   "source": [
    "Tbar = ctf.tensor((I,num_nonzero))\n",
    "Tbar.i(\"it\") << T.i(\"ijk\")*dense_omega.i(\"jkt\")\n",
    "[U_,S_,V_] = ctf.svd(Z)\n",
    "S_ = S_/(S_*S_ + regParam*ctf.ones(r))\n",
    "U.set_zero()\n",
    "U.i(\"ir\") << V_.i(\"rk\")*S_.i(\"k\")*U_.i(\"tk\")*Tbar.i(\"it\")"
   ]
  },
  {
   "cell_type": "code",
   "execution_count": null,
   "metadata": {},
   "outputs": [],
   "source": [
    "l = np.array([1,1,0,0,1,0,1,0,1])\n",
    "cuml = np.cumsum(l)-1\n",
    "result = []\n",
    "for x,y in enumerate(cuml):\n",
    "    if l[x] != 0:\n",
    "        result.append((x,y))\n",
    "result"
   ]
  },
  {
   "cell_type": "code",
   "execution_count": null,
   "metadata": {},
   "outputs": [],
   "source": [
    "m = np.zeros((result[len(result)-1][0]+1, result[len(result)-1][1]+1))\n",
    "for x,y in result:\n",
    "    m[x][y] = 1\n",
    "    dense = m.T\n",
    "dense"
   ]
  },
  {
   "cell_type": "code",
   "execution_count": null,
   "metadata": {},
   "outputs": [],
   "source": [
    "temp = ctf.to_nparray(omega[0,:,:].reshape(J*K))\n",
    "temp"
   ]
  },
  {
   "cell_type": "code",
   "execution_count": null,
   "metadata": {},
   "outputs": [],
   "source": [
    "np.count_nonzero(ctf.to_nparray(omega[0,:,:].reshape(J*K)))"
   ]
  },
  {
   "cell_type": "code",
   "execution_count": null,
   "metadata": {},
   "outputs": [],
   "source": []
  }
 ],
 "metadata": {
  "kernelspec": {
   "display_name": "Python 3",
   "language": "python",
   "name": "python3"
  },
  "language_info": {
   "codemirror_mode": {
    "name": "ipython",
    "version": 3
   },
   "file_extension": ".py",
   "mimetype": "text/x-python",
   "name": "python",
   "nbconvert_exporter": "python",
   "pygments_lexer": "ipython3",
   "version": "3.6.4"
  }
 },
 "nbformat": 4,
 "nbformat_minor": 2
}
