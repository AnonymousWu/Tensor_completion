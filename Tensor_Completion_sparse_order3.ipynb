{
 "cells": [
  {
   "cell_type": "code",
   "execution_count": 1,
   "metadata": {},
   "outputs": [],
   "source": [
    "import ctf,time,random\n",
    "import numpy as np\n",
    "import numpy.linalg as la\n",
    "from ctf import random as crandom\n",
    "glob_comm = ctf.comm()"
   ]
  },
  {
   "cell_type": "code",
   "execution_count": 2,
   "metadata": {},
   "outputs": [],
   "source": [
    "class UnitTests:\n",
    "        \n",
    "    def test_3d_purturb1(self):\n",
    "        \n",
    "        I = random.randint(3,5)\n",
    "        J = random.randint(3,5)\n",
    "        K = random.randint(3,5)\n",
    "        r = 2 \n",
    "        sparsity = .2\n",
    "        regParam = 10\n",
    "        \n",
    "        ctf.random.seed(42)\n",
    "        U = ctf.random.random((I,r))\n",
    "        V= ctf.random.random((J,r))\n",
    "        W= ctf.random.random((K,r))\n",
    "    \n",
    "    \n",
    "        # 3rd-order tensor\n",
    "        T = ctf.tensor((I,J,K))\n",
    "        T.fill_random(0,1)\n",
    "        omega = createOmega(I,J,K,sparsity)\n",
    "        T.i(\"ijk\") << omega.i(\"ijk\")*U.i(\"iu\")*V.i(\"ju\")*W.i(\"ku\")\n",
    "        omega = updateOmega(T,I,J,K)\n",
    "        \n",
    "        print(\"U: \",U)\n",
    "                \n",
    "        # purturb the first factor matrix\n",
    "        U += crandom.random((I,r))*.01\n",
    "        # call updateU function\n",
    "        nU = updateU(T,U,V,W,regParam,omega,I,J,K,r)\n",
    "        \n",
    "        print(\"nU: \",nU)\n",
    "        \n",
    "        nT = ctf.tensor((I,J,K))\n",
    "        nT.i(\"ijk\") << omega.i(\"ijk\")*nU.i(\"iu\")*V.i(\"ju\")*W.i(\"ku\")\n",
    "        \n",
    "        print(\"nT: \",nT)\n",
    "        print(\"T: \",T)\n",
    "    \n",
    "        assert(ctf.all(ctf.abs(nT - T < 1e-10)))\n",
    "        print(\"passed test: test_3d_purturb1\")\n",
    "\n",
    "        \n",
    "    def runAllTests(self):\n",
    "        self.test_3d_purturb1()"
   ]
  },
  {
   "cell_type": "code",
   "execution_count": 3,
   "metadata": {},
   "outputs": [],
   "source": [
    "def normalize(Z,r):\n",
    "    norms = ctf.tensor(r)\n",
    "    norms.i(\"u\") << Z.i(\"pu\")*Z.i(\"pu\")\n",
    "    norms = 1./norms**.5\n",
    "    X = ctf.tensor(copy=Z)\n",
    "    Z.set_zero()\n",
    "    Z.i(\"pu\") << X.i(\"pu\")*norms.i(\"u\")\n",
    "    return 1./norms"
   ]
  },
  {
   "cell_type": "code",
   "execution_count": 4,
   "metadata": {},
   "outputs": [],
   "source": [
    "def createOmega(I,J,K,sparsity):\n",
    "    Actf = ctf.tensor((I,J,K),sp=True)\n",
    "    Actf.fill_sp_random(0,1,sparsity)\n",
    "    omegactf = ((Actf > 0)*ctf.astensor(1.))\n",
    "    return omegactf\n",
    "\n",
    "\n",
    "def updateOmega(T,I,J,K):\n",
    "    '''\n",
    "    Gets a random subset of rows for each U,V,W iteration\n",
    "    '''\n",
    "    omegactf = ((T > 0)*ctf.astensor(1.))\n",
    "    return omegactf\n",
    "\n",
    "\n",
    "def getDenseOmega(T,U,V,W,regParam,omega,I,J,K,r,idx,string):\n",
    "    if (string ==\"i\"):\n",
    "        omega_curr = ctf.to_nparray(omega[idx,:,:].reshape(J*K))\n",
    "        omega_sum = np.cumsum(omega_curr).tolist()\n",
    "        omega_sum.insert(0,0)\n",
    "        del omega_sum[-1]\n",
    "        #print(\"omega prefix sum: \", omega_sum)\n",
    "        l = []\n",
    "        for x,y in enumerate(omega_sum):\n",
    "            if omega_curr[x] != 0:\n",
    "                l.append((x,int(y)))\n",
    "        #print(l)\n",
    "        num_nonzero = len(l)\n",
    "        \n",
    "        # form dense omega matrix\n",
    "        temp = np.zeros((J*K,len(l)))\n",
    "        for x,y in l:\n",
    "            temp[x][y] = 1\n",
    "        #print(\"omega_dense: \", omega_dense)\n",
    "       \n",
    "        omega_dense = ctf.astensor(temp)\n",
    "        #print(\"before\", (omega_dense, omega_dense.shape))\n",
    "        omega_dense = omega_dense.reshape(J,K,num_nonzero)\n",
    "        #print(\"after\", (omega_dense, omega_dense.shape))\n",
    "        \n",
    "    \n",
    "    if (string ==\"j\"):\n",
    "        omega_curr = ctf.to_nparray(omega[:,idx,:].reshape(I*K))\n",
    "        omega_sum = np.cumsum(omega_curr).tolist()\n",
    "        omega_sum.insert(0,0)\n",
    "        del omega_sum[-1]\n",
    "        l = []\n",
    "        for x,y in enumerate(omega_sum):\n",
    "            if omega_curr[x] != 0:\n",
    "                l.append((x,int(y)))\n",
    "        num_nonzero = len(l)\n",
    "        temp = np.zeros((I*K,len(l)))\n",
    "        for x,y in l:\n",
    "            temp[x,y] = 1\n",
    "        omega_dense = ctf.astensor(temp)\n",
    "        omega_dense = omega_dense.reshape(I,K,num_nonzero)        \n",
    "    \n",
    "    if (string ==\"k\"):\n",
    "        omega_curr = ctf.to_nparray(omega[:,:,idx].reshape(I*J))\n",
    "        omega_sum = np.cumsum(omega_curr).tolist()\n",
    "        omega_sum.insert(0,0)\n",
    "        del omega_sum[-1]\n",
    "        l = []\n",
    "        for x,y in enumerate(omega_sum):\n",
    "            if omega_curr[x] != 0:\n",
    "                l.append((x,int(y)))\n",
    "        num_nonzero = len(l)  \n",
    "        temp = np.zeros((I*J,len(l)))\n",
    "        for x,y in l:\n",
    "            temp[x][y] = 1\n",
    "        omega_dense = ctf.astensor(temp)\n",
    "        omega_dense = omega_dense.reshape(I,J,num_nonzero)\n",
    "        \n",
    "    return num_nonzero,omega_dense"
   ]
  },
  {
   "cell_type": "code",
   "execution_count": 5,
   "metadata": {},
   "outputs": [],
   "source": [
    "def LS_SVD(Z,factor,r,Tbar,regParam,idx):\n",
    "    [U_,S_,V_] = ctf.svd(Z)\n",
    "    S_ = S_/(S_*S_ + regParam*ctf.ones(r))\n",
    "    \n",
    "    factor.set_zero()\n",
    "    factor.i(\"r\") << V_.i(\"kr\")*S_.i(\"k\")*U_.i(\"tk\")*Tbar.i(\"t\")\n",
    "    \n",
    "    return factor    "
   ]
  },
  {
   "cell_type": "code",
   "execution_count": 29,
   "metadata": {},
   "outputs": [],
   "source": [
    "def LS_CG(Ax0,b,Z,x0,r):\n",
    "    rk = b - Ax0\n",
    "    sk = rk\n",
    "    xk = x0\n",
    "    for i in range(10): # how many iterations?\n",
    "        Ask = ctf.tensor(r)\n",
    "        Ask.i(\"i\") << Z.i(\"ti\") * Z.i(\"tj\") * sk.i(\"j\")  # A @ sk\n",
    "        alpha = ctf.dot(rk,rk)/ctf.dot(sk, Ask)\n",
    "        xk1 = xk + alpha * sk\n",
    "        rk1 = rk - alpha * Ask\n",
    "        beta = ctf.dot(rk1,rk1)/ctf.dot(rk,rk)\n",
    "        sk1 = rk1 + beta*sk\n",
    "        rk = rk1\n",
    "        xk = xk1\n",
    "        sk = sk1\n",
    "    return xk"
   ]
  },
  {
   "cell_type": "code",
   "execution_count": 30,
   "metadata": {},
   "outputs": [],
   "source": [
    "def CG(Z,Tbar,r):\n",
    "    x0 = ctf.random.random(r)\n",
    "    Ax0 = ctf.tensor((r))\n",
    "    Ax0.i(\"i\") << Z.i(\"ti\") * Z.i(\"tj\") * x0.i(\"j\")  # LHS; ATA using matrix-vector multiplication\n",
    "    b = ctf.dot(Z.transpose(),Tbar)                  # RHS; ATb\n",
    "    return LS_CG(Ax0,b,Z,x0,r)"
   ]
  },
  {
   "cell_type": "code",
   "execution_count": 31,
   "metadata": {},
   "outputs": [],
   "source": [
    "def updateU(T,U,V,W,regParam,omega,I,J,K,r):\n",
    "    '''Update U matrix by using the formula'''\n",
    "    M1 = ctf.tensor((J,K,r))\n",
    "    M1.i(\"jku\") << V.i(\"ju\")*W.i(\"ku\")\n",
    "    \n",
    "    for i in range(I):\n",
    "        num_nonzero, dense_omega = getDenseOmega(T,U,V,W,regParam,omega,I,J,K,r,i,\"i\")\n",
    "        Z = ctf.tensor((num_nonzero,r))\n",
    "        Z.i(\"tr\") << dense_omega.i(\"jkt\")*M1.i(\"jkr\")\n",
    "        \n",
    "        Tbar = ctf.tensor((num_nonzero))\n",
    "        Tbar.i(\"t\") << dense_omega.i(\"jkt\") *T.i(\"ijk\")\n",
    "        \n",
    "        #U[i,:] = LS_SVD(Z,U[i,:],r,Tbar,regParam,i)\n",
    "        U[i,:].set_zero()\n",
    "        U[i,:] = CG(Z,Tbar,r)\n",
    "    #U *= normalize(U,r)\n",
    "     \n",
    "    return U\n",
    "    \n",
    "    \n",
    "def updateV(T,U,V,W,regParam,omega,I,J,K,r):\n",
    "    '''Update V matrix by using the formula'''\n",
    "    \n",
    "    M2 = ctf.tensor((I,K,r))\n",
    "    M2.i(\"iku\") << U.i(\"iu\")*W.i(\"ku\")\n",
    "    \n",
    "    for j in range(J):\n",
    "        num_nonzero, dense_omega = getDenseOmega(T,U,V,W,regParam,omega,I,J,K,r,j,\"j\")\n",
    "        Z = ctf.tensor((num_nonzero,r))\n",
    "        Z.i(\"tr\") << dense_omega.i(\"ikt\")*M2.i(\"ikr\")\n",
    "        \n",
    "        Tbar = ctf.tensor((num_nonzero))\n",
    "        Tbar.i(\"t\") << dense_omega.i(\"ikt\") *T.i(\"ijk\")\n",
    "        \n",
    "        #V[j,:] = LS_SVD(Z,V[j,:],r,Tbar,regParam,j)\n",
    "        V[j,:].set_zero()\n",
    "        V[j,:] = CG(Z,Tbar,r)\n",
    "    #V *= normalize(V,r)\n",
    "    \n",
    "    return V  \n",
    "\n",
    "def updateW(T,U,V,W,regParam,omega,I,J,K,r):\n",
    "    '''Update V matrix by using the formula'''\n",
    "    \n",
    "    M3 = ctf.tensor((I,J,r))\n",
    "    M3.i(\"iju\") << U.i(\"iu\")*V.i(\"ju\")\n",
    "    \n",
    "    for k in range(K):\n",
    "        num_nonzero, dense_omega = getDenseOmega(T,U,V,W,regParam,omega,I,J,K,r,k,\"k\")\n",
    "        Z = ctf.tensor((num_nonzero,r))\n",
    "        Z.i(\"tr\") << dense_omega.i(\"ijt\")*M3.i(\"ijr\")\n",
    "        \n",
    "        Tbar = ctf.tensor((num_nonzero))\n",
    "        Tbar.i(\"t\") << dense_omega.i(\"ijt\") *T.i(\"ijk\")\n",
    "        \n",
    "        #W[k,:] = LS_SVD(Z,W[k,:],r,Tbar,regParam,k)\n",
    "        W[k,:].set_zero()\n",
    "        W[k,:] = CG(Z,Tbar,r)\n",
    "    #W *= normalize(W,r)\n",
    "    \n",
    "    return W"
   ]
  },
  {
   "cell_type": "code",
   "execution_count": 32,
   "metadata": {},
   "outputs": [],
   "source": [
    "def getALSCtf(T,U,V,W,regParam,omega,I,J,K,r):\n",
    "    '''\n",
    "    Same thing as above, but CTF\n",
    "    '''\n",
    "    it = 0\n",
    "    E = ctf.tensor((I,J,K))\n",
    "    E.i(\"ijk\") << T.i(\"ijk\") - omega.i(\"ijk\")*U.i(\"iu\")*V.i(\"ju\")*W.i(\"ku\")\n",
    "    curr_err_norm = ctf.vecnorm(E) + (ctf.vecnorm(U) + ctf.vecnorm(V) + ctf.vecnorm(W))*regParam\n",
    "    \n",
    "    while True:\n",
    "        U = updateU(T,U,V,W,regParam,omega,I,J,K,r)\n",
    "        V = updateV(T,U,V,W,regParam,omega,I,J,K,r) \n",
    "        W = updateW(T,U,V,W,regParam,omega,I,J,K,r)\n",
    "        E.set_zero()\n",
    "        E.i(\"ijk\") << T.i(\"ijk\") - omega.i(\"ijk\")*U.i(\"iu\")*V.i(\"ju\")*W.i(\"ku\")\n",
    "        next_err_norm = ctf.vecnorm(E) + (ctf.vecnorm(U) + ctf.vecnorm(V) + ctf.vecnorm(W))*regParam\n",
    "        \n",
    "        if abs(curr_err_norm - next_err_norm) < .001 or it > 10:\n",
    "            break\n",
    "            \n",
    "        print(curr_err_norm, next_err_norm)\n",
    "        #print(next_err_norm/curr_err_norm)\n",
    "        curr_err_norm = next_err_norm\n",
    "        it += 1\n",
    "    \n",
    "    print(\"Number of iterations: \", it)\n",
    "    return U,V,W"
   ]
  },
  {
   "cell_type": "code",
   "execution_count": 33,
   "metadata": {},
   "outputs": [],
   "source": [
    "def main():\n",
    "    \n",
    "    #ut = UnitTests()\n",
    "    #ut.runAllTests()\n",
    "\n",
    "    I = random.randint(10,20)\n",
    "    J = random.randint(10,20)\n",
    "    K = random.randint(10,20)\n",
    "    r = 2 \n",
    "    sparsity = .1\n",
    "    regParam = 0\n",
    "        \n",
    "    ctf.random.seed(42)\n",
    "    U = ctf.random.random((I,r))\n",
    "    V= ctf.random.random((J,r))\n",
    "    W= ctf.random.random((K,r))\n",
    "    \n",
    "    # 3rd-order tensor\n",
    "    T = ctf.tensor((I,J,K),sp=True)\n",
    "    T.fill_sp_random(0,1,sparsity)\n",
    "    omega = updateOmega(T,I,J,K)\n",
    "    \n",
    "    U = ctf.random.random((I,r))\n",
    "    V= ctf.random.random((J,r))\n",
    "    W= ctf.random.random((K,r))\n",
    "    \n",
    "    t = time.time()\n",
    "    \n",
    "    getALSCtf(T,U,V,W,regParam,omega,I,J,K,r)\n",
    "    \n",
    "    print(\"ALS costs time = \",np.round_(time.time()- t,4))    "
   ]
  },
  {
   "cell_type": "code",
   "execution_count": 34,
   "metadata": {},
   "outputs": [
    {
     "name": "stdout",
     "output_type": "stream",
     "text": [
      "5.995095879902293 nan\n",
      "nan nan\n"
     ]
    },
    {
     "ename": "KeyboardInterrupt",
     "evalue": "",
     "output_type": "error",
     "traceback": [
      "\u001b[0;31m---------------------------------------------------------------------------\u001b[0m",
      "\u001b[0;31mKeyboardInterrupt\u001b[0m                         Traceback (most recent call last)",
      "\u001b[0;32m<ipython-input-34-263240bbee7e>\u001b[0m in \u001b[0;36m<module>\u001b[0;34m()\u001b[0m\n\u001b[0;32m----> 1\u001b[0;31m \u001b[0mmain\u001b[0m\u001b[0;34m(\u001b[0m\u001b[0;34m)\u001b[0m\u001b[0;34m\u001b[0m\u001b[0m\n\u001b[0m",
      "\u001b[0;32m<ipython-input-33-15397ebaf913>\u001b[0m in \u001b[0;36mmain\u001b[0;34m()\u001b[0m\n\u001b[1;32m     27\u001b[0m     \u001b[0mt\u001b[0m \u001b[0;34m=\u001b[0m \u001b[0mtime\u001b[0m\u001b[0;34m.\u001b[0m\u001b[0mtime\u001b[0m\u001b[0;34m(\u001b[0m\u001b[0;34m)\u001b[0m\u001b[0;34m\u001b[0m\u001b[0m\n\u001b[1;32m     28\u001b[0m \u001b[0;34m\u001b[0m\u001b[0m\n\u001b[0;32m---> 29\u001b[0;31m     \u001b[0mgetALSCtf\u001b[0m\u001b[0;34m(\u001b[0m\u001b[0mT\u001b[0m\u001b[0;34m,\u001b[0m\u001b[0mU\u001b[0m\u001b[0;34m,\u001b[0m\u001b[0mV\u001b[0m\u001b[0;34m,\u001b[0m\u001b[0mW\u001b[0m\u001b[0;34m,\u001b[0m\u001b[0mregParam\u001b[0m\u001b[0;34m,\u001b[0m\u001b[0momega\u001b[0m\u001b[0;34m,\u001b[0m\u001b[0mI\u001b[0m\u001b[0;34m,\u001b[0m\u001b[0mJ\u001b[0m\u001b[0;34m,\u001b[0m\u001b[0mK\u001b[0m\u001b[0;34m,\u001b[0m\u001b[0mr\u001b[0m\u001b[0;34m)\u001b[0m\u001b[0;34m\u001b[0m\u001b[0m\n\u001b[0m\u001b[1;32m     30\u001b[0m \u001b[0;34m\u001b[0m\u001b[0m\n\u001b[1;32m     31\u001b[0m     \u001b[0mprint\u001b[0m\u001b[0;34m(\u001b[0m\u001b[0;34m\"ALS costs time = \"\u001b[0m\u001b[0;34m,\u001b[0m\u001b[0mnp\u001b[0m\u001b[0;34m.\u001b[0m\u001b[0mround_\u001b[0m\u001b[0;34m(\u001b[0m\u001b[0mtime\u001b[0m\u001b[0;34m.\u001b[0m\u001b[0mtime\u001b[0m\u001b[0;34m(\u001b[0m\u001b[0;34m)\u001b[0m\u001b[0;34m-\u001b[0m \u001b[0mt\u001b[0m\u001b[0;34m,\u001b[0m\u001b[0;36m4\u001b[0m\u001b[0;34m)\u001b[0m\u001b[0;34m)\u001b[0m\u001b[0;34m\u001b[0m\u001b[0m\n",
      "\u001b[0;32m<ipython-input-32-90c31cba878d>\u001b[0m in \u001b[0;36mgetALSCtf\u001b[0;34m(T, U, V, W, regParam, omega, I, J, K, r)\u001b[0m\n\u001b[1;32m      9\u001b[0m \u001b[0;34m\u001b[0m\u001b[0m\n\u001b[1;32m     10\u001b[0m     \u001b[0;32mwhile\u001b[0m \u001b[0;32mTrue\u001b[0m\u001b[0;34m:\u001b[0m\u001b[0;34m\u001b[0m\u001b[0m\n\u001b[0;32m---> 11\u001b[0;31m         \u001b[0mU\u001b[0m \u001b[0;34m=\u001b[0m \u001b[0mupdateU\u001b[0m\u001b[0;34m(\u001b[0m\u001b[0mT\u001b[0m\u001b[0;34m,\u001b[0m\u001b[0mU\u001b[0m\u001b[0;34m,\u001b[0m\u001b[0mV\u001b[0m\u001b[0;34m,\u001b[0m\u001b[0mW\u001b[0m\u001b[0;34m,\u001b[0m\u001b[0mregParam\u001b[0m\u001b[0;34m,\u001b[0m\u001b[0momega\u001b[0m\u001b[0;34m,\u001b[0m\u001b[0mI\u001b[0m\u001b[0;34m,\u001b[0m\u001b[0mJ\u001b[0m\u001b[0;34m,\u001b[0m\u001b[0mK\u001b[0m\u001b[0;34m,\u001b[0m\u001b[0mr\u001b[0m\u001b[0;34m)\u001b[0m\u001b[0;34m\u001b[0m\u001b[0m\n\u001b[0m\u001b[1;32m     12\u001b[0m         \u001b[0mV\u001b[0m \u001b[0;34m=\u001b[0m \u001b[0mupdateV\u001b[0m\u001b[0;34m(\u001b[0m\u001b[0mT\u001b[0m\u001b[0;34m,\u001b[0m\u001b[0mU\u001b[0m\u001b[0;34m,\u001b[0m\u001b[0mV\u001b[0m\u001b[0;34m,\u001b[0m\u001b[0mW\u001b[0m\u001b[0;34m,\u001b[0m\u001b[0mregParam\u001b[0m\u001b[0;34m,\u001b[0m\u001b[0momega\u001b[0m\u001b[0;34m,\u001b[0m\u001b[0mI\u001b[0m\u001b[0;34m,\u001b[0m\u001b[0mJ\u001b[0m\u001b[0;34m,\u001b[0m\u001b[0mK\u001b[0m\u001b[0;34m,\u001b[0m\u001b[0mr\u001b[0m\u001b[0;34m)\u001b[0m\u001b[0;34m\u001b[0m\u001b[0m\n\u001b[1;32m     13\u001b[0m         \u001b[0mW\u001b[0m \u001b[0;34m=\u001b[0m \u001b[0mupdateW\u001b[0m\u001b[0;34m(\u001b[0m\u001b[0mT\u001b[0m\u001b[0;34m,\u001b[0m\u001b[0mU\u001b[0m\u001b[0;34m,\u001b[0m\u001b[0mV\u001b[0m\u001b[0;34m,\u001b[0m\u001b[0mW\u001b[0m\u001b[0;34m,\u001b[0m\u001b[0mregParam\u001b[0m\u001b[0;34m,\u001b[0m\u001b[0momega\u001b[0m\u001b[0;34m,\u001b[0m\u001b[0mI\u001b[0m\u001b[0;34m,\u001b[0m\u001b[0mJ\u001b[0m\u001b[0;34m,\u001b[0m\u001b[0mK\u001b[0m\u001b[0;34m,\u001b[0m\u001b[0mr\u001b[0m\u001b[0;34m)\u001b[0m\u001b[0;34m\u001b[0m\u001b[0m\n",
      "\u001b[0;32m<ipython-input-31-7b576b0367ca>\u001b[0m in \u001b[0;36mupdateU\u001b[0;34m(T, U, V, W, regParam, omega, I, J, K, r)\u001b[0m\n\u001b[1;32m     14\u001b[0m         \u001b[0;31m#U[i,:] = LS_SVD(Z,U[i,:],r,Tbar,regParam,i)\u001b[0m\u001b[0;34m\u001b[0m\u001b[0;34m\u001b[0m\u001b[0m\n\u001b[1;32m     15\u001b[0m         \u001b[0mU\u001b[0m\u001b[0;34m[\u001b[0m\u001b[0mi\u001b[0m\u001b[0;34m,\u001b[0m\u001b[0;34m:\u001b[0m\u001b[0;34m]\u001b[0m\u001b[0;34m.\u001b[0m\u001b[0mset_zero\u001b[0m\u001b[0;34m(\u001b[0m\u001b[0;34m)\u001b[0m\u001b[0;34m\u001b[0m\u001b[0m\n\u001b[0;32m---> 16\u001b[0;31m         \u001b[0mU\u001b[0m\u001b[0;34m[\u001b[0m\u001b[0mi\u001b[0m\u001b[0;34m,\u001b[0m\u001b[0;34m:\u001b[0m\u001b[0;34m]\u001b[0m \u001b[0;34m=\u001b[0m \u001b[0mCG\u001b[0m\u001b[0;34m(\u001b[0m\u001b[0mZ\u001b[0m\u001b[0;34m,\u001b[0m\u001b[0mTbar\u001b[0m\u001b[0;34m,\u001b[0m\u001b[0mr\u001b[0m\u001b[0;34m)\u001b[0m\u001b[0;34m\u001b[0m\u001b[0m\n\u001b[0m\u001b[1;32m     17\u001b[0m     \u001b[0;31m#U *= normalize(U,r)\u001b[0m\u001b[0;34m\u001b[0m\u001b[0;34m\u001b[0m\u001b[0m\n\u001b[1;32m     18\u001b[0m \u001b[0;34m\u001b[0m\u001b[0m\n",
      "\u001b[0;32m<ipython-input-30-be70e7618c09>\u001b[0m in \u001b[0;36mCG\u001b[0;34m(Z, Tbar, r)\u001b[0m\n\u001b[1;32m      4\u001b[0m     \u001b[0mAx0\u001b[0m\u001b[0;34m.\u001b[0m\u001b[0mi\u001b[0m\u001b[0;34m(\u001b[0m\u001b[0;34m\"i\"\u001b[0m\u001b[0;34m)\u001b[0m \u001b[0;34m<<\u001b[0m \u001b[0mZ\u001b[0m\u001b[0;34m.\u001b[0m\u001b[0mi\u001b[0m\u001b[0;34m(\u001b[0m\u001b[0;34m\"ti\"\u001b[0m\u001b[0;34m)\u001b[0m \u001b[0;34m*\u001b[0m \u001b[0mZ\u001b[0m\u001b[0;34m.\u001b[0m\u001b[0mi\u001b[0m\u001b[0;34m(\u001b[0m\u001b[0;34m\"tj\"\u001b[0m\u001b[0;34m)\u001b[0m \u001b[0;34m*\u001b[0m \u001b[0mx0\u001b[0m\u001b[0;34m.\u001b[0m\u001b[0mi\u001b[0m\u001b[0;34m(\u001b[0m\u001b[0;34m\"j\"\u001b[0m\u001b[0;34m)\u001b[0m  \u001b[0;31m# LHS; ATA using matrix-vector multiplication\u001b[0m\u001b[0;34m\u001b[0m\u001b[0m\n\u001b[1;32m      5\u001b[0m     \u001b[0mb\u001b[0m \u001b[0;34m=\u001b[0m \u001b[0mctf\u001b[0m\u001b[0;34m.\u001b[0m\u001b[0mdot\u001b[0m\u001b[0;34m(\u001b[0m\u001b[0mZ\u001b[0m\u001b[0;34m.\u001b[0m\u001b[0mtranspose\u001b[0m\u001b[0;34m(\u001b[0m\u001b[0;34m)\u001b[0m\u001b[0;34m,\u001b[0m\u001b[0mTbar\u001b[0m\u001b[0;34m)\u001b[0m                  \u001b[0;31m# RHS; ATb\u001b[0m\u001b[0;34m\u001b[0m\u001b[0m\n\u001b[0;32m----> 6\u001b[0;31m     \u001b[0;32mreturn\u001b[0m \u001b[0mLS_CG\u001b[0m\u001b[0;34m(\u001b[0m\u001b[0mAx0\u001b[0m\u001b[0;34m,\u001b[0m\u001b[0mb\u001b[0m\u001b[0;34m,\u001b[0m\u001b[0mZ\u001b[0m\u001b[0;34m,\u001b[0m\u001b[0mx0\u001b[0m\u001b[0;34m,\u001b[0m\u001b[0mr\u001b[0m\u001b[0;34m)\u001b[0m\u001b[0;34m\u001b[0m\u001b[0m\n\u001b[0m",
      "\u001b[0;32m<ipython-input-29-60c97cf1f415>\u001b[0m in \u001b[0;36mLS_CG\u001b[0;34m(Ax0, b, Z, x0, r)\u001b[0m\n\u001b[1;32m     10\u001b[0m         \u001b[0mrk1\u001b[0m \u001b[0;34m=\u001b[0m \u001b[0mrk\u001b[0m \u001b[0;34m-\u001b[0m \u001b[0malpha\u001b[0m \u001b[0;34m*\u001b[0m \u001b[0mAsk\u001b[0m\u001b[0;34m\u001b[0m\u001b[0m\n\u001b[1;32m     11\u001b[0m         \u001b[0mbeta\u001b[0m \u001b[0;34m=\u001b[0m \u001b[0mctf\u001b[0m\u001b[0;34m.\u001b[0m\u001b[0mdot\u001b[0m\u001b[0;34m(\u001b[0m\u001b[0mrk1\u001b[0m\u001b[0;34m,\u001b[0m\u001b[0mrk1\u001b[0m\u001b[0;34m)\u001b[0m\u001b[0;34m/\u001b[0m\u001b[0mctf\u001b[0m\u001b[0;34m.\u001b[0m\u001b[0mdot\u001b[0m\u001b[0;34m(\u001b[0m\u001b[0mrk\u001b[0m\u001b[0;34m,\u001b[0m\u001b[0mrk\u001b[0m\u001b[0;34m)\u001b[0m\u001b[0;34m\u001b[0m\u001b[0m\n\u001b[0;32m---> 12\u001b[0;31m         \u001b[0msk1\u001b[0m \u001b[0;34m=\u001b[0m \u001b[0mrk1\u001b[0m \u001b[0;34m+\u001b[0m \u001b[0mbeta\u001b[0m\u001b[0;34m*\u001b[0m\u001b[0msk\u001b[0m\u001b[0;34m\u001b[0m\u001b[0m\n\u001b[0m\u001b[1;32m     13\u001b[0m         \u001b[0mrk\u001b[0m \u001b[0;34m=\u001b[0m \u001b[0mrk1\u001b[0m\u001b[0;34m\u001b[0m\u001b[0m\n\u001b[1;32m     14\u001b[0m         \u001b[0mxk\u001b[0m \u001b[0;34m=\u001b[0m \u001b[0mxk1\u001b[0m\u001b[0;34m\u001b[0m\u001b[0m\n",
      "\u001b[0;31mKeyboardInterrupt\u001b[0m: "
     ]
    }
   ],
   "source": [
    "main()"
   ]
  },
  {
   "cell_type": "markdown",
   "metadata": {},
   "source": [
    "## TEST"
   ]
  },
  {
   "cell_type": "code",
   "execution_count": null,
   "metadata": {},
   "outputs": [],
   "source": [
    "I = 3\n",
    "J = 4\n",
    "K = 5\n",
    "r = 2\n",
    "sparsity = .1\n",
    "regParam = 0.001\n",
    "        \n",
    "ctf.random.seed(42)\n",
    "U = ctf.random.random((I,r))\n",
    "V= ctf.random.random((J,r))\n",
    "W= ctf.random.random((K,r))\n",
    "    \n",
    "# 3rd-order tensor\n",
    "T = ctf.tensor((I,J,K),sp=True)\n",
    "T.fill_sp_random(0,1,sparsity)\n",
    "omega = updateOmega(T,I,J,K)\n",
    "T"
   ]
  },
  {
   "cell_type": "code",
   "execution_count": null,
   "metadata": {},
   "outputs": [],
   "source": [
    "M1 = ctf.tensor((J,K,r))\n",
    "M1.i(\"jku\") << V.i(\"ju\")*W.i(\"ku\") \n",
    "num_nonzero, dense_omega = getDenseOmega(T,U,V,W,regParam,omega,I,J,K,r,0,\"i\")\n",
    "Z = ctf.tensor((num_nonzero,r))\n",
    "Z.i(\"tr\") << dense_omega.i(\"jkt\")*M1.i(\"jkr\")\n",
    "Z"
   ]
  },
  {
   "cell_type": "code",
   "execution_count": null,
   "metadata": {},
   "outputs": [],
   "source": [
    "Tbar = ctf.tensor((num_nonzero))\n",
    "Tbar.i(\"t\") << dense_omega.i(\"jkt\") *T.i(\"ijk\")\n",
    "Tbar"
   ]
  },
  {
   "cell_type": "code",
   "execution_count": null,
   "metadata": {},
   "outputs": [],
   "source": [
    "from scipy.sparse.linalg import lsqr as lsqr\n",
    "la.lstsq(ctf.to_nparray(Z), ctf.to_nparray(Tbar))[0]"
   ]
  },
  {
   "cell_type": "code",
   "execution_count": null,
   "metadata": {},
   "outputs": [],
   "source": [
    "x0 = ctf.random.random(r)\n",
    "#n = b.shape[0]\n",
    "\n",
    "Ax0 = ctf.dot(ctf.dot(Z.transpose(),Z),x0) # LHS; using matrix-matrix multiplication\n",
    "b = ctf.dot(Z.transpose(),Tbar)  # ATb; RHS\n",
    "Ax0"
   ]
  },
  {
   "cell_type": "code",
   "execution_count": null,
   "metadata": {},
   "outputs": [],
   "source": [
    "Ax0_ = ctf.tensor((r))\n",
    "Ax0_.i(\"i\") << Z.i(\"ti\") * Z.i(\"tj\") * x0.i(\"j\")  # LHS; using matrix-vector multiplication\n",
    "Ax0_"
   ]
  },
  {
   "cell_type": "code",
   "execution_count": null,
   "metadata": {},
   "outputs": [],
   "source": [
    "LS_CG(Ax0_,b,Z,x0)"
   ]
  },
  {
   "cell_type": "code",
   "execution_count": null,
   "metadata": {},
   "outputs": [],
   "source": [
    "U"
   ]
  },
  {
   "cell_type": "code",
   "execution_count": null,
   "metadata": {},
   "outputs": [],
   "source": [
    "U[0,:] = LS_CG(Ax0_,b,Z,x0)\n",
    "U"
   ]
  },
  {
   "cell_type": "code",
   "execution_count": null,
   "metadata": {},
   "outputs": [],
   "source": [
    "LS_SVD(Z,U,r,Tbar,regParam) "
   ]
  },
  {
   "cell_type": "code",
   "execution_count": null,
   "metadata": {},
   "outputs": [],
   "source": []
  }
 ],
 "metadata": {
  "kernelspec": {
   "display_name": "Python 3",
   "language": "python",
   "name": "python3"
  },
  "language_info": {
   "codemirror_mode": {
    "name": "ipython",
    "version": 3
   },
   "file_extension": ".py",
   "mimetype": "text/x-python",
   "name": "python",
   "nbconvert_exporter": "python",
   "pygments_lexer": "ipython3",
   "version": "3.6.4"
  }
 },
 "nbformat": 4,
 "nbformat_minor": 2
}
