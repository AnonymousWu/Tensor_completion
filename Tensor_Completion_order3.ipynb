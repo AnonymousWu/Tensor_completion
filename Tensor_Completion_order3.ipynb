{
 "cells": [
  {
   "cell_type": "code",
   "execution_count": 55,
   "metadata": {},
   "outputs": [],
   "source": [
    "import ctf\n",
    "import numpy as np\n",
    "import numpy.linalg as la\n",
    "from ctf import random\n",
    "glob_comm = ctf.comm()"
   ]
  },
  {
   "cell_type": "code",
   "execution_count": 56,
   "metadata": {},
   "outputs": [],
   "source": [
    "def normalize(Z):\n",
    "    norms = ctf.tensor(r)\n",
    "    norms.i(\"u\") << Z.i(\"pu\")*Z.i(\"pu\")\n",
    "    norms = 1./norms**.5\n",
    "    X = ctf.tensor(copy=Z)\n",
    "    Z.set_zero()\n",
    "    Z.i(\"pu\") << X.i(\"pu\")*norms.i(\"u\")\n",
    "    return 1./norms"
   ]
  },
  {
   "cell_type": "code",
   "execution_count": 57,
   "metadata": {},
   "outputs": [],
   "source": [
    "def updateOmega(I,J,K,sparsity):\n",
    "    '''\n",
    "    Gets a random subset of rows for each U,V,W iteration\n",
    "    '''\n",
    "    Actf = ctf.tensor((I,J,K),sp=True)\n",
    "    Actf.fill_sp_random(0,1,sparsity)\n",
    "    omegactf = ((Actf > 0)*ctf.astensor(1.))\n",
    "    return omegactf\n",
    "\n",
    "\n",
    "def getIndexFromOmega(omega,I,J,K):\n",
    "    '''\n",
    "    Gets a random i,j,k contained in Ω[0...i-1,0...j-1,0...k-1]\n",
    "    '''\n",
    "    #TODO: Better sampling instead of MC.\n",
    "    i = random.randint(0,I-1)\n",
    "    j = random.randint(0,J-1)\n",
    "    k = random.randint(0,K-1)\n",
    "    while omega[i][j][k] != 1:\n",
    "        i = random.randint(0,I-1)\n",
    "        j = random.randint(0,J-1)\n",
    "        k = random.randint(0,K-1)\n",
    "        \n",
    "    return (i,j,k)"
   ]
  },
  {
   "cell_type": "code",
   "execution_count": 58,
   "metadata": {},
   "outputs": [],
   "source": [
    "def updateU(T,V,W,regParam,omega,I,J,K,r):\n",
    "    '''Update U matrix by using the formula'''\n",
    "    \n",
    "    M1 = ctf.tensor((J,K,r))\n",
    "    M1.i(\"jku\") << V.i(\"ju\")*W.i(\"ku\")\n",
    "    [U_,S_,V_] = ctf.svd(M1.reshape((J*K,r)))\n",
    "    S_ = 1./S_\n",
    "    U.set_zero()\n",
    "    U.i(\"iu\") << V_.i(\"vu\")*S_.i(\"v\")*U_.reshape((J,K,r)).i(\"jkv\")*T.i(\"ijk\")\n",
    "    normalize(U)\n",
    "    \n",
    "    return U   \n",
    "    \n",
    "    \n",
    "def updateV(T,U,W,regParam,omega,I,J,K,r):\n",
    "    '''Update V matrix by using the formula'''\n",
    "    \n",
    "    M2 = ctf.tensor((I,K,r))\n",
    "    M2.i(\"iku\") << U.i(\"iu\")*W.i(\"ku\")\n",
    "    [U_,S_,V_] = ctf.svd(M2.reshape((I*K,r)))\n",
    "    S_ = 1./S_\n",
    "    V.set_zero()\n",
    "    V.i(\"ju\") << V_.i(\"vu\")*S_.i(\"v\")*U_.reshape((I,K,r)).i(\"ikv\")*T.i(\"ijk\")\n",
    "    normalize(V)\n",
    "    \n",
    "    return V   \n",
    "\n",
    "def updateW(T,U,V,regParam,omega,I,J,K,r):\n",
    "    '''Update V matrix by using the formula'''\n",
    "    \n",
    "    M3 = ctf.tensor((I,J,r))\n",
    "    M3.i(\"iju\") << U.i(\"iu\")*V.i(\"ju\")\n",
    "    [U_,S_,V_] = ctf.svd(M3.reshape((I*J,r)))\n",
    "    S_ = 1./S_\n",
    "    W.set_zero()\n",
    "    W.i(\"ku\") << V_.i(\"vu\")*S_.i(\"v\")*U_.reshape((I,J,r)).i(\"ijv\")*T.i(\"ijk\")\n",
    "    normalize(W)\n",
    "    \n",
    "    return W"
   ]
  },
  {
   "cell_type": "code",
   "execution_count": 63,
   "metadata": {},
   "outputs": [],
   "source": [
    "def getALSCtf(T,U,V,W,regParam,omega,I,J,K,r):\n",
    "    '''\n",
    "    Same thing as above, but CTF\n",
    "    '''\n",
    "    it = 0\n",
    "    E = ctf.tensor((I,J,K))\n",
    "    E.i(\"ijk\") << T.i(\"ijk\") - omega.i(\"ijk\")*U.i(\"iu\")*V.i(\"ju\")*W.i(\"ku\")\n",
    "    curr_err_norm = ctf.vecnorm(E) + (ctf.vecnorm(U) + ctf.vecnorm(V) + ctf.vecnorm(W))*regParam\n",
    "    \n",
    "    while True:\n",
    "        U = updateU(T,V,W,regParam,omega,I,J,K,r) \n",
    "        V = updateV(T,U,W,regParam,omega,I,J,K,r) \n",
    "        W = updateW(T,U,V,regParam,omega,I,J,K,r) \n",
    "        E.i(\"ijk\") << T.i(\"ijk\") - omega.i(\"ijk\")*U.i(\"iu\")*V.i(\"ju\")*W.i(\"ku\")\n",
    "        next_err_norm = ctf.vecnorm(E) + (ctf.vecnorm(U) + ctf.vecnorm(V) + ctf.vecnorm(W))*regParam\n",
    "        \n",
    "        if curr_err_norm - next_err_norm > .001 or it > 10:\n",
    "            break\n",
    "            \n",
    "        print(curr_err_norm, next_err_norm)\n",
    "        curr_err_norm = next_err_norm\n",
    "        it += 1\n",
    "        \n",
    "    return U,V,W"
   ]
  },
  {
   "cell_type": "code",
   "execution_count": 64,
   "metadata": {},
   "outputs": [],
   "source": [
    "I = 3\n",
    "J = 4\n",
    "K = 5\n",
    "r = 3 # TODO: determine rank?\n",
    "sparsity = .2\n",
    "#learningRate = .1\n",
    "regParam = 2\n",
    "#regParamSGD = .1\n",
    "#width = 1  # how many random i,j we're going to get\n",
    "#convNo = .00002  # When we'll stop converging\n",
    "  \n",
    "# 3rd-order tensor\n",
    "T = ctf.tensor((I,J,K),sp=True)\n",
    "T.fill_sp_random(0,1,1)\n",
    "\n",
    "ctf.random.seed(42)\n",
    "U = ctf.random.random((I,r))\n",
    "V= ctf.random.random((J,r))\n",
    "W= ctf.random.random((K,r))\n",
    "\n",
    "normalize(U)\n",
    "normalize(V)\n",
    "normalize(W)\n",
    "\n",
    "omega = updateOmega(I,J,K,sparsity)"
   ]
  },
  {
   "cell_type": "code",
   "execution_count": 65,
   "metadata": {},
   "outputs": [
    {
     "name": "stdout",
     "output_type": "stream",
     "text": [
      "14.019753130499076 17.437660889861057\n",
      "17.437660889861057 20.833161839357622\n",
      "20.833161839357622 24.232768942197666\n",
      "24.232768942197666 27.63977141098906\n",
      "27.63977141098906 31.05058946569811\n",
      "31.05058946569811 34.463935933262036\n",
      "34.463935933262036 37.87963545021427\n",
      "37.87963545021427 41.29787466835978\n",
      "41.29787466835978 44.71893183113951\n",
      "44.71893183113951 48.14309546583924\n",
      "48.14309546583924 51.570633605345\n"
     ]
    },
    {
     "data": {
      "text/plain": [
       "(array([[ 0.07512799,  0.69449551,  0.40799817],\n",
       "        [-0.78159667,  0.53520393,  0.43958365],\n",
       "        [-0.61924343,  0.48086667,  0.8001898 ]]),\n",
       " array([[ 0.51389248,  0.38233145,  0.49891826],\n",
       "        [-0.32236203,  0.85430083,  0.4165905 ],\n",
       "        [ 0.40625483,  0.28368424,  0.3612204 ],\n",
       "        [ 0.68334051,  0.20860491,  0.66862003]]),\n",
       " array([[-0.55985128,  0.69938648, -0.37708965],\n",
       "        [-0.6396375 ,  0.6548355 , -0.25587897],\n",
       "        [ 0.11859833,  0.15214084,  0.31106806],\n",
       "        [-0.00801446,  0.24244355,  0.15276784],\n",
       "        [ 0.51312828,  0.01110442,  0.81989512]]))"
      ]
     },
     "execution_count": 65,
     "metadata": {},
     "output_type": "execute_result"
    }
   ],
   "source": [
    "getALSCtf(T,U,V,W,regParam,omega,I,J,K,r)"
   ]
  },
  {
   "cell_type": "code",
   "execution_count": null,
   "metadata": {},
   "outputs": [],
   "source": []
  }
 ],
 "metadata": {
  "kernelspec": {
   "display_name": "Python 3",
   "language": "python",
   "name": "python3"
  },
  "language_info": {
   "codemirror_mode": {
    "name": "ipython",
    "version": 3
   },
   "file_extension": ".py",
   "mimetype": "text/x-python",
   "name": "python",
   "nbconvert_exporter": "python",
   "pygments_lexer": "ipython3",
   "version": "3.6.4"
  }
 },
 "nbformat": 4,
 "nbformat_minor": 2
}
