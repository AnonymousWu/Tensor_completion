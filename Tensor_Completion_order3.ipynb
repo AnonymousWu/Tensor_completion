{
 "cells": [
  {
   "cell_type": "code",
   "execution_count": 28,
   "metadata": {},
   "outputs": [],
   "source": [
    "import ctf,time,random\n",
    "import numpy as np\n",
    "import numpy.linalg as la\n",
    "from ctf import random as crandom\n",
    "glob_comm = ctf.comm()"
   ]
  },
  {
   "cell_type": "code",
   "execution_count": 18,
   "metadata": {},
   "outputs": [],
   "source": [
    "class UnitTests:\n",
    "    def test3d(self):\n",
    "        print(\"pass\")\n",
    "        pass\n",
    "        \n",
    "    def runAllTests(self):\n",
    "        self.test3d()"
   ]
  },
  {
   "cell_type": "code",
   "execution_count": 26,
   "metadata": {},
   "outputs": [],
   "source": [
    "def normalize(Z,r):\n",
    "    norms = ctf.tensor(r)\n",
    "    norms.i(\"u\") << Z.i(\"pu\")*Z.i(\"pu\")\n",
    "    norms = 1./norms**.5\n",
    "    X = ctf.tensor(copy=Z)\n",
    "    Z.set_zero()\n",
    "    Z.i(\"pu\") << X.i(\"pu\")*norms.i(\"u\")\n",
    "    return 1./norms"
   ]
  },
  {
   "cell_type": "code",
   "execution_count": 7,
   "metadata": {},
   "outputs": [],
   "source": [
    "def updateOmega(I,J,K,sparsity):\n",
    "    '''\n",
    "    Gets a random subset of rows for each U,V,W iteration\n",
    "    '''\n",
    "    Actf = ctf.tensor((I,J,K),sp=True)\n",
    "    Actf.fill_sp_random(0,1,sparsity)\n",
    "    omegactf = ((Actf > 0)*ctf.astensor(1.))\n",
    "    return omegactf\n",
    "\n",
    "\n",
    "def getIndexFromOmega(omega,I,J,K):\n",
    "    '''\n",
    "    Gets a random i,j,k contained in Ω[0...i-1,0...j-1,0...k-1]\n",
    "    '''\n",
    "    #TODO: Better sampling instead of MC.\n",
    "    i = random.randint(0,I-1)\n",
    "    j = random.randint(0,J-1)\n",
    "    k = random.randint(0,K-1)\n",
    "    while omega[i][j][k] != 1:\n",
    "        i = random.randint(0,I-1)\n",
    "        j = random.randint(0,J-1)\n",
    "        k = random.randint(0,K-1)\n",
    "        \n",
    "    return (i,j,k)"
   ]
  },
  {
   "cell_type": "code",
   "execution_count": 34,
   "metadata": {},
   "outputs": [],
   "source": [
    "def updateU(T,U,V,W,regParam,omega,I,J,K,r):\n",
    "    '''Update U matrix by using the formula'''\n",
    "    \n",
    "    M1 = ctf.tensor((J,K,r))\n",
    "    M1.i(\"jku\") << V.i(\"ju\")*W.i(\"ku\")\n",
    "    [U_,S_,V_] = ctf.svd(M1.reshape((J*K,r)))\n",
    "    S_ = 1./S_\n",
    "    U.set_zero()\n",
    "    U.i(\"iu\") << V_.i(\"vu\")*S_.i(\"v\")*U_.reshape((J,K,r)).i(\"jkv\")*T.i(\"ijk\")\n",
    "    normalize(U,r)\n",
    "    \n",
    "    return U   \n",
    "    \n",
    "    \n",
    "def updateV(T,U,V,W,regParam,omega,I,J,K,r):\n",
    "    '''Update V matrix by using the formula'''\n",
    "    \n",
    "    M2 = ctf.tensor((I,K,r))\n",
    "    M2.i(\"iku\") << U.i(\"iu\")*W.i(\"ku\")\n",
    "    [U_,S_,V_] = ctf.svd(M2.reshape((I*K,r)))\n",
    "    S_ = 1./S_\n",
    "    V.set_zero()\n",
    "    V.i(\"ju\") << V_.i(\"vu\")*S_.i(\"v\")*U_.reshape((I,K,r)).i(\"ikv\")*T.i(\"ijk\")\n",
    "    normalize(V,r)\n",
    "    \n",
    "    return V   \n",
    "\n",
    "def updateW(T,U,V,W,regParam,omega,I,J,K,r):\n",
    "    '''Update V matrix by using the formula'''\n",
    "    \n",
    "    M3 = ctf.tensor((I,J,r))\n",
    "    M3.i(\"iju\") << U.i(\"iu\")*V.i(\"ju\")\n",
    "    [U_,S_,V_] = ctf.svd(M3.reshape((I*J,r)))\n",
    "    S_ = 1./S_\n",
    "    W.set_zero()\n",
    "    W.i(\"ku\") << V_.i(\"vu\")*S_.i(\"v\")*U_.reshape((I,J,r)).i(\"ijv\")*T.i(\"ijk\")\n",
    "    normalize(W,r)\n",
    "    \n",
    "    return W"
   ]
  },
  {
   "cell_type": "code",
   "execution_count": 35,
   "metadata": {},
   "outputs": [],
   "source": [
    "def getALSCtf(T,U,V,W,regParam,omega,I,J,K,r):\n",
    "    '''\n",
    "    Same thing as above, but CTF\n",
    "    '''\n",
    "    it = 0\n",
    "    E = ctf.tensor((I,J,K))\n",
    "    E.i(\"ijk\") << T.i(\"ijk\") - omega.i(\"ijk\")*U.i(\"iu\")*V.i(\"ju\")*W.i(\"ku\")\n",
    "    curr_err_norm = ctf.vecnorm(E) + (ctf.vecnorm(U) + ctf.vecnorm(V) + ctf.vecnorm(W))*regParam\n",
    "    \n",
    "    while True:\n",
    "        U = updateU(T,U,V,W,regParam,omega,I,J,K,r) \n",
    "        V = updateV(T,U,V,W,regParam,omega,I,J,K,r) \n",
    "        W = updateW(T,U,V,W,regParam,omega,I,J,K,r) \n",
    "        E.i(\"ijk\") << T.i(\"ijk\") - omega.i(\"ijk\")*U.i(\"iu\")*V.i(\"ju\")*W.i(\"ku\")\n",
    "        next_err_norm = ctf.vecnorm(E) + (ctf.vecnorm(U) + ctf.vecnorm(V) + ctf.vecnorm(W))*regParam\n",
    "        \n",
    "        if curr_err_norm - next_err_norm > .001 or it > 10:\n",
    "            break\n",
    "            \n",
    "        print(curr_err_norm, next_err_norm)\n",
    "        curr_err_norm = next_err_norm\n",
    "        it += 1\n",
    "        \n",
    "    return U,V,W"
   ]
  },
  {
   "cell_type": "code",
   "execution_count": 36,
   "metadata": {},
   "outputs": [],
   "source": [
    "def main():\n",
    "    \n",
    "    ut = UnitTests()\n",
    "    ut.runAllTests()\n",
    "\n",
    "    I = random.randint(1,5)\n",
    "    J = random.randint(1,5)\n",
    "    K = random.randint(1,5)\n",
    "    r = 3 \n",
    "    sparsity = .2\n",
    "    regParam = 2\n",
    "    \n",
    "    # 3rd-order tensor\n",
    "    T = ctf.tensor((I,J,K),sp=True)\n",
    "    T.fill_sp_random(0,1,1)\n",
    "    \n",
    "    ctf.random.seed(42)\n",
    "    U = ctf.random.random((I,r))\n",
    "    V= ctf.random.random((J,r))\n",
    "    W= ctf.random.random((K,r))\n",
    "    \n",
    "    normalize(U,r)\n",
    "    normalize(V,r)\n",
    "    normalize(W,r)\n",
    "    \n",
    "    omega = updateOmega(I,J,K,sparsity)\n",
    "    \n",
    "    t = time.time()\n",
    "    \n",
    "    getALSCtf(T,U,V,W,regParam,omega,I,J,K,r)\n",
    "    \n",
    "    print(\"ALS costs time = \",np.round_(time.time()- t,4))    "
   ]
  },
  {
   "cell_type": "code",
   "execution_count": 37,
   "metadata": {},
   "outputs": [
    {
     "name": "stdout",
     "output_type": "stream",
     "text": [
      "pass\n",
      "13.783784782178587 17.06726909747425\n",
      "17.06726909747425 20.331349023876886\n",
      "20.331349023876886 23.553564019727894\n",
      "23.553564019727894 26.74816900604123\n",
      "26.74816900604123 29.937345974958337\n",
      "29.937345974958337 33.12394729221492\n",
      "33.12394729221492 36.30575747410268\n",
      "36.30575747410268 39.480612168969365\n",
      "39.480612168969365 42.64716978125728\n",
      "42.64716978125728 45.80527584707603\n",
      "45.80527584707603 48.956220455790884\n",
      "ALS costs time =  2.0665\n"
     ]
    }
   ],
   "source": [
    "main()"
   ]
  },
  {
   "cell_type": "code",
   "execution_count": null,
   "metadata": {},
   "outputs": [],
   "source": []
  }
 ],
 "metadata": {
  "kernelspec": {
   "display_name": "Python 3",
   "language": "python",
   "name": "python3"
  },
  "language_info": {
   "codemirror_mode": {
    "name": "ipython",
    "version": 3
   },
   "file_extension": ".py",
   "mimetype": "text/x-python",
   "name": "python",
   "nbconvert_exporter": "python",
   "pygments_lexer": "ipython3",
   "version": "3.6.4"
  }
 },
 "nbformat": 4,
 "nbformat_minor": 2
}
