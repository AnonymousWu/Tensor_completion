{
 "cells": [
  {
   "cell_type": "code",
   "execution_count": 76,
   "metadata": {},
   "outputs": [],
   "source": [
    "import ctf\n",
    "from ctf import random\n",
    "import numpy as np\n",
    "import numpy.linalg as la\n",
    "glob_comm = ctf.comm()"
   ]
  },
  {
   "cell_type": "markdown",
   "metadata": {},
   "source": [
    "#### Symmetric Case "
   ]
  },
  {
   "cell_type": "code",
   "execution_count": 25,
   "metadata": {},
   "outputs": [
    {
     "data": {
      "text/plain": [
       "array([[[ 0.85401372,  0.18131606,  0.26859406],\n",
       "        [ 0.78908386,  0.65059516,  0.6627158 ],\n",
       "        [ 0.        ,  0.26687633,  0.00357873]],\n",
       "\n",
       "       [[ 0.24683768,  0.48001242,  0.70520176],\n",
       "        [ 0.        ,  0.11745619,  0.46197907],\n",
       "        [ 0.4593875 ,  0.        ,  0.        ]],\n",
       "\n",
       "       [[ 0.09307546,  0.93264594,  0.28619528],\n",
       "        [ 0.45564329,  0.78688555,  0.89040718],\n",
       "        [ 0.        ,  0.63614484,  0.5163691 ]]])"
      ]
     },
     "execution_count": 25,
     "metadata": {},
     "output_type": "execute_result"
    }
   ],
   "source": [
    "# rank 3 tensor\n",
    "n = 3\n",
    "A = ctf.tensor((n,n,n),sp=True)\n",
    "A.fill_sp_random(0,1,1)\n",
    "A"
   ]
  },
  {
   "cell_type": "code",
   "execution_count": 57,
   "metadata": {},
   "outputs": [
    {
     "name": "stdout",
     "output_type": "stream",
     "text": [
      "(3, 3)\n"
     ]
    }
   ],
   "source": [
    "[U,S,V] = ctf.svd(A.reshape((n*n,n)))\n",
    "#print(ctf.vecnorm(A.reshape((n*n, n))-U@ctf.diag(S,sp=True)@V))\n",
    "print(V.shape)"
   ]
  },
  {
   "cell_type": "code",
   "execution_count": 71,
   "metadata": {},
   "outputs": [
    {
     "name": "stdout",
     "output_type": "stream",
     "text": [
      "2.177316716788354\n",
      "0.6273069180029907\n",
      "0.5642149734890209\n",
      "0.5371540234877374\n",
      "0.5235373671243281\n",
      "0.514717990408333\n",
      "0.5080841718060254\n",
      "0.5046922886451478\n",
      "0.5032658405468982\n",
      "0.5024500877083943\n"
     ]
    }
   ],
   "source": [
    "ctf.random.seed(42)\n",
    "Z1 = ctf.random.random((n,3))\n",
    "Z2 = ctf.random.random((n,3))\n",
    "Z3 = ctf.random.random((n,3))\n",
    "lmbda = ctf.random.random((3))\n",
    "\n",
    "niter = 0\n",
    "\n",
    "def normalize(Z):\n",
    "    norms = ctf.tensor(3)\n",
    "    norms.i(\"u\") << Z.i(\"pu\")*Z.i(\"pu\")\n",
    "    norms = 1./norms**.5\n",
    "    X = ctf.tensor(copy=Z)\n",
    "    Z.set_zero()\n",
    "    Z.i(\"pu\") << X.i(\"pu\")*norms.i(\"u\")\n",
    "    return 1./norms\n",
    "\n",
    "normalize(Z1)\n",
    "normalize(Z2)\n",
    "normalize(Z3)\n",
    "\n",
    "E = ctf.tensor((n,n,n))\n",
    "E.i(\"ijk\") << A.i(\"ijk\") - lmbda.i(\"u\")*Z1.i(\"iu\")*Z2.i(\"ju\")*Z3.i(\"ku\")\n",
    "err_norm = ctf.vecnorm(E)\n",
    "\n",
    "while (err_norm > 1.e-6 and niter < 100):\n",
    "    if niter % 10 == 0:\n",
    "        if glob_comm.rank() == 0:\n",
    "            print(err_norm)\n",
    "    M = ctf.tensor((n,n,3))\n",
    "    M.i(\"jku\") << Z2.i(\"ju\")*Z3.i(\"ku\")\n",
    "    [U,S,V] = ctf.svd(M.reshape((n*n,3)))\n",
    "    S = 1./S\n",
    "    Z1.set_zero()\n",
    "    Z1.i(\"iu\") << V.i(\"vu\")*S.i(\"v\")*U.reshape((n,n,3)).i(\"jkv\")*A.i(\"ijk\")\n",
    "    \n",
    "    normalize(Z1)\n",
    "    \n",
    "    M.set_zero()\n",
    "    M.i(\"iku\") << Z1.i(\"iu\")*Z3.i(\"ku\")\n",
    "    [U,S,V] = ctf.svd(M.reshape((n*n,3)))\n",
    "    S = 1./S\n",
    "    Z2.set_zero()\n",
    "    Z2.i(\"ju\") << V.i(\"vu\")*S.i(\"v\")*U.reshape((n,n,3)).i(\"ikv\")*A.i(\"ijk\")\n",
    "    \n",
    "    normalize(Z2)\n",
    "    \n",
    "    M.set_zero()\n",
    "    M.i(\"iju\") << Z1.i(\"iu\")*Z2.i(\"ju\")\n",
    "    [U,S,V] = ctf.svd(M.reshape((n*n,3)))\n",
    "    S = 1./S\n",
    "    Z3.set_zero()\n",
    "    Z3.i(\"ku\") << V.i(\"vu\")*S.i(\"v\")*U.reshape((n,n,3)).i(\"ijv\")*A.i(\"ijk\")\n",
    "\n",
    "    lmbda = normalize(Z3)\n",
    "    \n",
    "    E.set_zero()\n",
    "    E.i(\"ijk\") << A.i(\"ijk\") - lmbda.i(\"u\")*Z1.i(\"iu\")*Z2.i(\"ju\")*Z3.i(\"ku\")\n",
    "    err_norm = ctf.vecnorm(E)\n",
    "    \n",
    "    niter+=1"
   ]
  },
  {
   "cell_type": "markdown",
   "metadata": {},
   "source": [
    "#### Non-symmetric case"
   ]
  },
  {
   "cell_type": "code",
   "execution_count": 75,
   "metadata": {},
   "outputs": [],
   "source": [
    "# TODO: Tensor decomposition\n",
    "def cp(T,I,J,K,r):\n",
    "    '''\n",
    "    Parameters\n",
    "    ------\n",
    "    T : Tensor to be approximated by CP decomposition\n",
    "    r : estimated rank\n",
    "    \n",
    "    Returns\n",
    "    -------\n",
    "    factors : list of ndarray\n",
    "        estimated low-rank decomposition (in kruskal tensor format)\n",
    "    \n",
    "    '''\n",
    "    ctf.random.seed(42)\n",
    "    U = ctf.random.random((I,r))\n",
    "    V= ctf.random.random((J,r))\n",
    "    W= ctf.random.random((K,r))\n",
    "    lmbda = ctf.random.random((r))\n",
    "    \n",
    "    niter = 0\n",
    "    \n",
    "    def normalize(Z):\n",
    "        norms = ctf.tensor(r)\n",
    "        norms.i(\"u\") << Z.i(\"pu\")*Z.i(\"pu\")\n",
    "        norms = 1./norms**.5\n",
    "        X = ctf.tensor(copy=Z)\n",
    "        Z.set_zero()\n",
    "        Z.i(\"pu\") << X.i(\"pu\")*norms.i(\"u\")\n",
    "        return 1./norms\n",
    "\n",
    "    normalize(U)\n",
    "    normalize(V)\n",
    "    normalize(W)\n",
    "\n",
    "    E = ctf.tensor((I,J,K))\n",
    "    E.i(\"ijk\") << T.i(\"ijk\") - lmbda.i(\"u\")*U.i(\"iu\")*V.i(\"ju\")*W.i(\"ku\")\n",
    "    err_norm = ctf.vecnorm(E)\n",
    "\n",
    "    while (err_norm > 1.e-6 and niter < 100):\n",
    "        if niter % 10 == 0:\n",
    "            if glob_comm.rank() == 0:\n",
    "                print(err_norm)\n",
    "        \n",
    "        M1 = ctf.tensor((J,K,r))\n",
    "        M1.i(\"jku\") << V.i(\"ju\")*W.i(\"ku\")\n",
    "        [U_,S_,V_] = ctf.svd(M1.reshape((J*K,r)))\n",
    "        S_ = 1./S_\n",
    "        U.set_zero()\n",
    "        U.i(\"iu\") << V_.i(\"vu\")*S_.i(\"v\")*U_.reshape((J,K,r)).i(\"jkv\")*T.i(\"ijk\")\n",
    "        normalize(U)\n",
    "    \n",
    "        M2 = ctf.tensor((I,K,r))\n",
    "        M2.i(\"iku\") << U.i(\"iu\")*W.i(\"ku\")\n",
    "        [U_,S_,V_] = ctf.svd(M2.reshape((I*K,r)))\n",
    "        S_ = 1./S_\n",
    "        V.set_zero()\n",
    "        V.i(\"ju\") << V_.i(\"vu\")*S_.i(\"v\")*U_.reshape((I,K,r)).i(\"ikv\")*T.i(\"ijk\")\n",
    "        normalize(V)\n",
    "    \n",
    "        M3 = ctf.tensor((I,J,r))\n",
    "        M3.i(\"iju\") << U.i(\"iu\")*V.i(\"ju\")\n",
    "        [U_,S_,V_] = ctf.svd(M3.reshape((I*J,r)))\n",
    "        S_ = 1./S_\n",
    "        W.set_zero()\n",
    "        W.i(\"ku\") << V_.i(\"vu\")*S_.i(\"v\")*U_.reshape((I,J,r)).i(\"ijv\")*T.i(\"ijk\")\n",
    "        lmbda = normalize(W)\n",
    "    \n",
    "        E.set_zero()\n",
    "        E.i(\"ijk\") << T.i(\"ijk\") - lmbda.i(\"u\")*U.i(\"iu\")*V.i(\"ju\")*W.i(\"ku\")\n",
    "        err_norm = ctf.vecnorm(E)\n",
    "    \n",
    "        niter+=1\n",
    "        \n",
    "    return U,V,W"
   ]
  },
  {
   "cell_type": "code",
   "execution_count": null,
   "metadata": {},
   "outputs": [],
   "source": []
  }
 ],
 "metadata": {
  "kernelspec": {
   "display_name": "Python 3",
   "language": "python",
   "name": "python3"
  },
  "language_info": {
   "codemirror_mode": {
    "name": "ipython",
    "version": 3
   },
   "file_extension": ".py",
   "mimetype": "text/x-python",
   "name": "python",
   "nbconvert_exporter": "python",
   "pygments_lexer": "ipython3",
   "version": "3.6.4"
  }
 },
 "nbformat": 4,
 "nbformat_minor": 2
}
