{
 "cells": [
  {
   "cell_type": "code",
   "execution_count": 26,
   "metadata": {},
   "outputs": [],
   "source": [
    "import ctf,time,random\n",
    "import numpy as np\n",
    "import numpy.linalg as la\n",
    "import matplotlib.pyplot as plt\n",
    "from ctf import random as crandom\n",
    "glob_comm = ctf.comm()"
   ]
  },
  {
   "cell_type": "code",
   "execution_count": 80,
   "metadata": {},
   "outputs": [],
   "source": [
    "def function_tensor(I,J,K,sparsity):\n",
    "    #N = 5\n",
    "    #n = 51\n",
    "    #L = 100\n",
    "    #nsample = 10*N*n*L #10nNL = 255000\n",
    "    n = 10\n",
    "\n",
    "    v = np.linspace(-1,1,n)\n",
    "    #v = np.arange(1,n+1)\n",
    "    v = ctf.astensor(v**2)\n",
    "    \n",
    "    v2 = ctf.tensor(n,sp=True)\n",
    "    v2 = v\n",
    "    \n",
    "    print(v2.sp)\n",
    "\n",
    "    \n",
    "    T = ctf.tensor((I,J,K),sp=True)\n",
    "    T.fill_sp_random(1,1,sparsity)\n",
    "    #T = ctf.exp(-1 * ctf.power(ctf.power(T,2),0.5))  # x = exp(-sqrt(x^2)) \n",
    "\n",
    "    T2 = ctf.tensor((I,J,K),sp=True)\n",
    "    T2.i(\"ijk\") << T.i(\"ijk\") * v2.i(\"i\")\n",
    "    T2.i(\"ijk\") << T.i(\"ijk\") * v2.i(\"j\")\n",
    "    T2.i(\"ijk\") << T.i(\"ijk\") * v2.i(\"k\")\n",
    "    \n",
    "    T2 = ctf.power(T2,0.5)\n",
    "    T2 = (-1.0) * T2\n",
    "    \n",
    "    #T2 = ctf.exp(T2)\n",
    "    \n",
    "    return T2"
   ]
  },
  {
   "cell_type": "code",
   "execution_count": 81,
   "metadata": {},
   "outputs": [
    {
     "name": "stdout",
     "output_type": "stream",
     "text": [
      "0\n"
     ]
    }
   ],
   "source": [
    "T = function_tensor(10,10,10,0.5)"
   ]
  },
  {
   "cell_type": "code",
   "execution_count": 82,
   "metadata": {},
   "outputs": [
    {
     "data": {
      "text/plain": [
       "1"
      ]
     },
     "execution_count": 82,
     "metadata": {},
     "output_type": "execute_result"
    }
   ],
   "source": [
    "T.sp"
   ]
  },
  {
   "cell_type": "code",
   "execution_count": 84,
   "metadata": {},
   "outputs": [
    {
     "data": {
      "text/plain": [
       "1"
      ]
     },
     "execution_count": 84,
     "metadata": {},
     "output_type": "execute_result"
    }
   ],
   "source": [
    "(T / T).sp"
   ]
  },
  {
   "cell_type": "code",
   "execution_count": null,
   "metadata": {},
   "outputs": [],
   "source": []
  }
 ],
 "metadata": {
  "kernelspec": {
   "display_name": "Python 3",
   "language": "python",
   "name": "python3"
  },
  "language_info": {
   "codemirror_mode": {
    "name": "ipython",
    "version": 3
   },
   "file_extension": ".py",
   "mimetype": "text/x-python",
   "name": "python",
   "nbconvert_exporter": "python",
   "pygments_lexer": "ipython3",
   "version": "3.6.4"
  }
 },
 "nbformat": 4,
 "nbformat_minor": 2
}
