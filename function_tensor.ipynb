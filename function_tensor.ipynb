{
 "cells": [
  {
   "cell_type": "code",
   "execution_count": 89,
   "metadata": {},
   "outputs": [],
   "source": [
    "import ctf,time,random\n",
    "import numpy as np\n",
    "import numpy.linalg as la\n",
    "import matplotlib.pyplot as plt\n",
    "from ctf import random as crandom\n",
    "glob_comm = ctf.comm()"
   ]
  },
  {
   "cell_type": "code",
   "execution_count": 90,
   "metadata": {},
   "outputs": [],
   "source": [
    "def function_tensor(I,J,K,sparsity):\n",
    "    #N = 5\n",
    "    #n = 51\n",
    "    #L = 100\n",
    "    #nsample = 10*N*n*L #10nNL = 255000\n",
    "    n = 4\n",
    "\n",
    "    v = np.linspace(-1,1,n)\n",
    "    #v = np.arange(1,n+1)\n",
    "    v = ctf.astensor(v**2)\n",
    "    \n",
    "    v2 = ctf.tensor(n,sp=True)\n",
    "    v2 = v\n",
    "    \n",
    "    #print(v2.sp)\n",
    "  \n",
    "    T = ctf.tensor((I,J,K),sp=True)\n",
    "    T.fill_sp_random(1,1,sparsity)\n",
    "    #T = ctf.exp(-1 * ctf.power(ctf.power(T,2),0.5))  # x = exp(-sqrt(x^2)) \n",
    "\n",
    "    T2 = ctf.tensor((I,J,K),sp=True)\n",
    "    T2.i(\"ijk\") << T.i(\"ijk\") * v2.i(\"i\")\n",
    "    T2.i(\"ijk\") << T.i(\"ijk\") * v2.i(\"j\")\n",
    "    T2.i(\"ijk\") << T.i(\"ijk\") * v2.i(\"k\")\n",
    "    \n",
    "    T2 = ctf.power(T2,0.5)\n",
    "    T2 = (-1.0) * T2\n",
    "    \n",
    "    #T2 = ctf.exp(T2)\n",
    "    \n",
    "    return T2"
   ]
  },
  {
   "cell_type": "code",
   "execution_count": 100,
   "metadata": {},
   "outputs": [],
   "source": [
    "T = function_tensor(4,4,4,0.5)"
   ]
  },
  {
   "cell_type": "code",
   "execution_count": 101,
   "metadata": {},
   "outputs": [
    {
     "data": {
      "text/plain": [
       "1"
      ]
     },
     "execution_count": 101,
     "metadata": {},
     "output_type": "execute_result"
    }
   ],
   "source": [
    "T.sp"
   ]
  },
  {
   "cell_type": "code",
   "execution_count": 102,
   "metadata": {},
   "outputs": [
    {
     "data": {
      "text/plain": [
       "1"
      ]
     },
     "execution_count": 102,
     "metadata": {},
     "output_type": "execute_result"
    }
   ],
   "source": [
    "(T / T).sp"
   ]
  },
  {
   "cell_type": "code",
   "execution_count": 103,
   "metadata": {},
   "outputs": [],
   "source": [
    "def updateOmega(T,I,J,K):\n",
    "    '''\n",
    "    Gets a random subset of rows for each U,V,W iteration\n",
    "    '''\n",
    "    if (T.sp==False):\n",
    "        omegactf = ((T > 0)*ctf.astensor(1.))\n",
    "    else:\n",
    "        omegactf = T / T\n",
    "    \n",
    "    return omegactf"
   ]
  },
  {
   "cell_type": "code",
   "execution_count": 104,
   "metadata": {},
   "outputs": [
    {
     "data": {
      "text/plain": [
       "1"
      ]
     },
     "execution_count": 104,
     "metadata": {},
     "output_type": "execute_result"
    }
   ],
   "source": [
    "omega = updateOmega(T,4,4,4)\n",
    "omega.sp"
   ]
  },
  {
   "cell_type": "code",
   "execution_count": 105,
   "metadata": {},
   "outputs": [
    {
     "data": {
      "text/plain": [
       "0"
      ]
     },
     "execution_count": 105,
     "metadata": {},
     "output_type": "execute_result"
    }
   ],
   "source": [
    "nomega = omega[1:,:,:]\n",
    "nomega.sp"
   ]
  },
  {
   "cell_type": "code",
   "execution_count": 106,
   "metadata": {},
   "outputs": [],
   "source": [
    "training_T = T"
   ]
  },
  {
   "cell_type": "code",
   "execution_count": 113,
   "metadata": {},
   "outputs": [
    {
     "data": {
      "text/plain": [
       "array([[[ 0.        , -1.45296631, -1.45296631, -1.73205081],\n",
       "        [-1.45296631, -1.1055416 , -1.1055416 , -1.45296631],\n",
       "        [-1.45296631,  0.        , -1.1055416 ,  0.        ],\n",
       "        [-1.73205081,  0.        ,  0.        , -1.73205081]],\n",
       "\n",
       "       [[ 0.        ,  0.        ,  0.        ,  0.        ],\n",
       "        [-1.1055416 ,  0.        , -0.57735027, -1.1055416 ],\n",
       "        [ 0.        , -0.57735027, -0.57735027,  0.        ],\n",
       "        [ 0.        ,  0.        , -1.1055416 ,  0.        ]],\n",
       "\n",
       "       [[ 0.        , -1.1055416 , -1.1055416 , -1.45296631],\n",
       "        [ 0.        ,  0.        , -0.57735027, -1.1055416 ],\n",
       "        [ 0.        ,  0.        ,  0.        ,  0.        ],\n",
       "        [ 0.        , -1.1055416 ,  0.        ,  0.        ]],\n",
       "\n",
       "       [[ 0.        , -1.45296631, -1.45296631, -1.73205081],\n",
       "        [-1.45296631,  0.        , -1.1055416 ,  0.        ],\n",
       "        [-1.45296631,  0.        ,  0.        ,  0.        ],\n",
       "        [-1.73205081,  0.        , -1.45296631, -1.73205081]]])"
      ]
     },
     "execution_count": 113,
     "metadata": {},
     "output_type": "execute_result"
    }
   ],
   "source": [
    "training_T"
   ]
  },
  {
   "cell_type": "code",
   "execution_count": 120,
   "metadata": {},
   "outputs": [
    {
     "data": {
      "text/plain": [
       "32.0"
      ]
     },
     "execution_count": 120,
     "metadata": {},
     "output_type": "execute_result"
    }
   ],
   "source": [
    "T.read_local_nnz"
   ]
  },
  {
   "cell_type": "code",
   "execution_count": null,
   "metadata": {},
   "outputs": [],
   "source": []
  }
 ],
 "metadata": {
  "kernelspec": {
   "display_name": "Python 3",
   "language": "python",
   "name": "python3"
  },
  "language_info": {
   "codemirror_mode": {
    "name": "ipython",
    "version": 3
   },
   "file_extension": ".py",
   "mimetype": "text/x-python",
   "name": "python",
   "nbconvert_exporter": "python",
   "pygments_lexer": "ipython3",
   "version": "3.6.4"
  }
 },
 "nbformat": 4,
 "nbformat_minor": 2
}
